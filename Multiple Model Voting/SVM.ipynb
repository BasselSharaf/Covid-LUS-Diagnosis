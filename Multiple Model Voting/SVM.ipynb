{
 "cells": [
  {
   "cell_type": "code",
   "execution_count": 8,
   "id": "6508ef47",
   "metadata": {
    "scrolled": true
   },
   "outputs": [],
   "source": [
    "import numpy as np\n",
    "import pandas as pd\n",
    "from matplotlib import pyplot as plt\n",
    "import cv2\n",
    "from PIL import Image\n",
    "from sklearn.pipeline import make_pipeline\n",
    "from sklearn.preprocessing import StandardScaler\n",
    "from sklearn.svm import SVC\n",
    "from sklearn.model_selection import cross_validate\n",
    "from sklearn.model_selection import cross_val_predict\n",
    "from sklearn.metrics import confusion_matrix \n",
    "from sklearn.metrics import f1_score\n",
    "from sklearn import metrics\n",
    "from sklearn.model_selection import train_test_split\n",
    "import random"
   ]
  },
  {
   "cell_type": "code",
   "execution_count": 9,
   "id": "e1958ba6",
   "metadata": {},
   "outputs": [],
   "source": [
    "my_data=pd.read_csv('../data/image_data.csv')\n",
    "data_array=my_data.to_numpy()\n",
    "images_path='../data/pocus_images/convex/'\n",
    "images_data=[]\n",
    "print('processing data...')\n",
    "for i in data_array:\n",
    "    img = cv2.imread(images_path+i[0]+'.'+i[2], cv2.IMREAD_GRAYSCALE)\n",
    "    img=cv2.equalizeHist(img)\n",
    "    img=cv2.resize(img, (224,224), interpolation = cv2.INTER_AREA)\n",
    "    img_1d=img.reshape(224*224)\n",
    "    images_data.append(img_1d)\n"
   ]
  },
  {
   "cell_type": "code",
   "execution_count": 60,
   "id": "ee90e33e",
   "metadata": {},
   "outputs": [
    {
     "name": "stdout",
     "output_type": "stream",
     "text": [
      "[66, 48, 62, 56, 71, 52, 86, 22, 65, 49]\n"
     ]
    }
   ],
   "source": [
    "r=[]\n",
    "conf_matricies=[]\n",
    "f1_reports=[]\n",
    "for i in range(10):\n",
    "    r.append(random.randint(0,100))\n",
    "print(r)"
   ]
  },
  {
   "cell_type": "code",
   "execution_count": 61,
   "id": "c734ae1c",
   "metadata": {},
   "outputs": [],
   "source": [
    "number_of_models=21\n",
    "X=np.asarray(images_data)\n",
    "y=np.asarray(my_data['Label'])\n",
    "Xandy=[]\n",
    "models=[]\n",
    "#creating models\n",
    "for i in range(number_of_models):\n",
    "    models.append(make_pipeline(StandardScaler(), SVC(gamma='auto',random_state=r[0])))\n",
    "\n",
    "#Creating array test splits for models\n",
    "#X_train, X_test, y_train, y_test \n",
    "for i in range(number_of_models):\n",
    "    x = train_test_split(X, y, test_size=0.2, random_state=r[0])\n",
    "    Xandy.append(x)"
   ]
  },
  {
   "cell_type": "code",
   "execution_count": 62,
   "id": "d64b7c6d",
   "metadata": {},
   "outputs": [
    {
     "name": "stdout",
     "output_type": "stream",
     "text": [
      "Equalizing Data\n"
     ]
    }
   ],
   "source": [
    "#Equalizing Data\n",
    "print('Equalizing Data')\n",
    "for i in range(number_of_models):\n",
    "    x=Xandy[i][0]\n",
    "    y=Xandy[i][2]\n",
    "    cov=np.count_nonzero(y == 'covid')\n",
    "    pneu=np.count_nonzero(y == 'pneumonia')\n",
    "    reg=np.count_nonzero(y == 'regular')\n",
    "    #deleting random pneumonia elements from each model set\n",
    "    while(cov!=pneu):\n",
    "        index=random.randint(0, len(x)-1)\n",
    "        if(y[index]=='pneumonia'):\n",
    "            x=np.delete(x,index,0)\n",
    "            y=np.delete(y,index,0)\n",
    "            pneu-=1\n",
    "    #deleting random regular elements from each model set       \n",
    "    while(cov!=reg):\n",
    "        index=random.randint(0, len(x)-1)\n",
    "        if(y[index]=='regular'):\n",
    "            x=np.delete(x,index,0)\n",
    "            y=np.delete(y,index,0)\n",
    "            reg-=1\n",
    "    Xandy[i][0]=x\n",
    "    Xandy[i][2]=y"
   ]
  },
  {
   "cell_type": "code",
   "execution_count": 63,
   "id": "3c1ec6f5",
   "metadata": {},
   "outputs": [
    {
     "name": "stdout",
     "output_type": "stream",
     "text": [
      "Training Models...\n"
     ]
    }
   ],
   "source": [
    "#Train each Model\n",
    "print('Training Models...')\n",
    "for i in range(number_of_models):\n",
    "    models[i].fit(Xandy[i][0],Xandy[i][2])"
   ]
  },
  {
   "cell_type": "code",
   "execution_count": 64,
   "id": "201161b7",
   "metadata": {},
   "outputs": [
    {
     "data": {
      "text/plain": [
       "array(['regular', 'pneumonia', 'pneumonia', 'covid', 'pneumonia',\n",
       "       'regular', 'covid', 'covid', 'covid', 'regular', 'regular',\n",
       "       'regular', 'pneumonia', 'regular', 'regular', 'covid', 'pneumonia',\n",
       "       'covid', 'regular', 'regular', 'regular', 'covid', 'pneumonia',\n",
       "       'regular', 'pneumonia', 'regular', 'covid', 'pneumonia', 'regular',\n",
       "       'regular', 'pneumonia'], dtype=object)"
      ]
     },
     "execution_count": 64,
     "metadata": {},
     "output_type": "execute_result"
    }
   ],
   "source": [
    "#Get predicted value from xtest of each model \n",
    "predicted=[]\n",
    "for i in range(number_of_models):\n",
    "    predicted.append(models[i].predict(Xandy[i][1]))\n",
    "predicted[0]"
   ]
  },
  {
   "cell_type": "code",
   "execution_count": 65,
   "id": "b758bae5",
   "metadata": {},
   "outputs": [],
   "source": [
    "#Method to get most predicted element\n",
    "from mostCommon import most_common"
   ]
  },
  {
   "cell_type": "code",
   "execution_count": 66,
   "id": "683976a2",
   "metadata": {},
   "outputs": [],
   "source": [
    "#Create 1 predict array by model voting\n",
    "voted_prediction=[]\n",
    "for i in range(len(predicted[0])):\n",
    "    voting=[]\n",
    "    for j in range(len(predicted)):\n",
    "        voting.append(predicted[j][i])\n",
    "    voted_prediction.append(most_common(voting))"
   ]
  },
  {
   "cell_type": "code",
   "execution_count": 67,
   "id": "ed7e087b",
   "metadata": {},
   "outputs": [],
   "source": [
    "conf_matrix=confusion_matrix(Xandy[0][3],voted_prediction)\n",
    "conf_matricies.append(conf_matrix)"
   ]
  },
  {
   "cell_type": "code",
   "execution_count": 68,
   "id": "5eb6f3f3",
   "metadata": {},
   "outputs": [],
   "source": [
    "classification_report=metrics.classification_report(Xandy[0][3],voted_prediction, digits=3)\n",
    "f1_reports.append(classification_report)"
   ]
  },
  {
   "cell_type": "code",
   "execution_count": 69,
   "id": "d001a043",
   "metadata": {},
   "outputs": [
    {
     "name": "stdout",
     "output_type": "stream",
     "text": [
      "[[ 6  2  0]\n",
      " [ 2  8  0]\n",
      " [ 0  0 13]]\n"
     ]
    }
   ],
   "source": [
    "print(conf_matricies[0])"
   ]
  },
  {
   "cell_type": "code",
   "execution_count": 70,
   "id": "f224f6d4",
   "metadata": {},
   "outputs": [
    {
     "name": "stdout",
     "output_type": "stream",
     "text": [
      "              precision    recall  f1-score   support\n",
      "\n",
      "       covid      0.750     0.750     0.750         8\n",
      "   pneumonia      0.800     0.800     0.800        10\n",
      "     regular      1.000     1.000     1.000        13\n",
      "\n",
      "    accuracy                          0.871        31\n",
      "   macro avg      0.850     0.850     0.850        31\n",
      "weighted avg      0.871     0.871     0.871        31\n",
      "\n"
     ]
    }
   ],
   "source": [
    "print(f1_reports[0])"
   ]
  },
  {
   "cell_type": "code",
   "execution_count": null,
   "id": "284b3513",
   "metadata": {},
   "outputs": [],
   "source": []
  }
 ],
 "metadata": {
  "kernelspec": {
   "display_name": "Python 3",
   "language": "python",
   "name": "python3"
  },
  "language_info": {
   "codemirror_mode": {
    "name": "ipython",
    "version": 3
   },
   "file_extension": ".py",
   "mimetype": "text/x-python",
   "name": "python",
   "nbconvert_exporter": "python",
   "pygments_lexer": "ipython3",
   "version": "3.9.3"
  }
 },
 "nbformat": 4,
 "nbformat_minor": 5
}
