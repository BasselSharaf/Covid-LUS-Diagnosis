{
 "cells": [
  {
   "cell_type": "code",
   "execution_count": 147,
   "id": "1db0b5f5",
   "metadata": {},
   "outputs": [],
   "source": [
    "import numpy as np\n",
    "import pandas as pd\n",
    "import cv2\n",
    "import random\n",
    "from sklearn.metrics import confusion_matrix\n",
    "from sklearn.pipeline import make_pipeline\n",
    "from sklearn.svm import SVC\n",
    "from sklearn.model_selection import train_test_split\n",
    "from sklearn import metrics\n",
    "from mostCommon import most_common\n",
    "from sklearn.metrics import f1_score\n",
    "from sklearn.preprocessing import StandardScaler\n",
    "from sklearn.decomposition import PCA\n",
    "import math"
   ]
  },
  {
   "cell_type": "code",
   "execution_count": 148,
   "id": "db146aaa",
   "metadata": {},
   "outputs": [],
   "source": [
    "my_data = pd.read_csv('../data/Five_Frames_Per_patient.csv')\n",
    "patients_data=pd.read_csv('../data/videos_data.csv')\n",
    "data_array = my_data.to_numpy()\n",
    "patients_array=patients_data[\"FileName\"].to_numpy()\n",
    "images_path = '../data/Five_Frames_Per_patient/'\n",
    "no_of_test_patients=math.floor(patients_array.size*0.2)\n",
    "images_data = []\n",
    "models = []"
   ]
  },
  {
   "cell_type": "code",
   "execution_count": 149,
   "id": "c88a9486",
   "metadata": {},
   "outputs": [],
   "source": [
    "rand_indexes=[]\n",
    "while len(rand_indexes)<no_of_test_patients:\n",
    "    h=random.randint(0, 121)\n",
    "    if h not in rand_indexes:\n",
    "        rand_indexes.append(h)\n",
    "test_patients=np.take(patients_array,rand_indexes)\n",
    "print(test)"
   ]
  },
  {
   "cell_type": "code",
   "execution_count": 150,
   "id": "510466e1",
   "metadata": {},
   "outputs": [
    {
     "name": "stdout",
     "output_type": "stream",
     "text": [
      "1830\n",
      "1455\n"
     ]
    }
   ],
   "source": [
    "#I got my patients names now i need to get their frames from my_data\n",
    "\n",
    "df=my_data\n",
    "for i in range(len(test_patients)):\n",
    "    contain_values = df[df['FileName'].str.contains(test_patients[i])]['FileName'].to_numpy()\n",
    "    indexes = df[df['FileName'].str.contains(test_patients[i])].index\n",
    "    df.drop(indexes, inplace = True )"
   ]
  },
  {
   "cell_type": "code",
   "execution_count": null,
   "id": "e12fca53",
   "metadata": {},
   "outputs": [],
   "source": []
  },
  {
   "cell_type": "code",
   "execution_count": null,
   "id": "a523854c",
   "metadata": {},
   "outputs": [],
   "source": []
  }
 ],
 "metadata": {
  "kernelspec": {
   "display_name": "Python 3",
   "language": "python",
   "name": "python3"
  },
  "language_info": {
   "codemirror_mode": {
    "name": "ipython",
    "version": 3
   },
   "file_extension": ".py",
   "mimetype": "text/x-python",
   "name": "python",
   "nbconvert_exporter": "python",
   "pygments_lexer": "ipython3",
   "version": "3.9.3"
  }
 },
 "nbformat": 4,
 "nbformat_minor": 5
}
