{
 "cells": [
  {
   "cell_type": "code",
   "execution_count": 2,
   "id": "professional-period",
   "metadata": {},
   "outputs": [],
   "source": [
    "import numpy as np\n",
    "import pandas as pd\n",
    "from matplotlib import pyplot as plt\n",
    "import cv2\n",
    "from PIL import Image"
   ]
  },
  {
   "cell_type": "code",
   "execution_count": 6,
   "id": "6713b536",
   "metadata": {},
   "outputs": [],
   "source": [
    "#Reading CSV file data\n",
    "my_data=pd.read_csv('../data/image_data.csv')"
   ]
  },
  {
   "cell_type": "code",
   "execution_count": 7,
   "id": "0739883f",
   "metadata": {},
   "outputs": [
    {
     "data": {
      "text/html": [
       "<div>\n",
       "<style scoped>\n",
       "    .dataframe tbody tr th:only-of-type {\n",
       "        vertical-align: middle;\n",
       "    }\n",
       "\n",
       "    .dataframe tbody tr th {\n",
       "        vertical-align: top;\n",
       "    }\n",
       "\n",
       "    .dataframe thead th {\n",
       "        text-align: right;\n",
       "    }\n",
       "</style>\n",
       "<table border=\"1\" class=\"dataframe\">\n",
       "  <thead>\n",
       "    <tr style=\"text-align: right;\">\n",
       "      <th></th>\n",
       "      <th>FileName</th>\n",
       "      <th>Label</th>\n",
       "      <th>Format</th>\n",
       "    </tr>\n",
       "  </thead>\n",
       "  <tbody>\n",
       "    <tr>\n",
       "      <th>0</th>\n",
       "      <td>Cov-Atlas+(44)V</td>\n",
       "      <td>covid</td>\n",
       "      <td>jpg</td>\n",
       "    </tr>\n",
       "    <tr>\n",
       "      <th>1</th>\n",
       "      <td>Cov-Atlas+(45)V</td>\n",
       "      <td>covid</td>\n",
       "      <td>jpg</td>\n",
       "    </tr>\n",
       "    <tr>\n",
       "      <th>2</th>\n",
       "      <td>Cov-Atlas-+(43)V</td>\n",
       "      <td>covid</td>\n",
       "      <td>jpg</td>\n",
       "    </tr>\n",
       "    <tr>\n",
       "      <th>3</th>\n",
       "      <td>Cov-Atlas-Day+1V</td>\n",
       "      <td>covid</td>\n",
       "      <td>jpg</td>\n",
       "    </tr>\n",
       "    <tr>\n",
       "      <th>4</th>\n",
       "      <td>Cov-Atlas-Day+2V</td>\n",
       "      <td>covid</td>\n",
       "      <td>jpg</td>\n",
       "    </tr>\n",
       "  </tbody>\n",
       "</table>\n",
       "</div>"
      ],
      "text/plain": [
       "           FileName  Label Format\n",
       "0   Cov-Atlas+(44)V  covid    jpg\n",
       "1   Cov-Atlas+(45)V  covid    jpg\n",
       "2  Cov-Atlas-+(43)V  covid    jpg\n",
       "3  Cov-Atlas-Day+1V  covid    jpg\n",
       "4  Cov-Atlas-Day+2V  covid    jpg"
      ]
     },
     "execution_count": 7,
     "metadata": {},
     "output_type": "execute_result"
    }
   ],
   "source": [
    "my_data.head()"
   ]
  },
  {
   "cell_type": "code",
   "execution_count": 8,
   "id": "c6d85b13",
   "metadata": {},
   "outputs": [
    {
     "ename": "FileNotFoundError",
     "evalue": "[Errno 2] No such file or directory: 'picturepervideodata.png'",
     "output_type": "error",
     "traceback": [
      "\u001b[1;31m---------------------------------------------------------------------------\u001b[0m",
      "\u001b[1;31mFileNotFoundError\u001b[0m                         Traceback (most recent call last)",
      "\u001b[1;32m<ipython-input-8-6afcb60ef733>\u001b[0m in \u001b[0;36m<module>\u001b[1;34m\u001b[0m\n\u001b[0;32m      1\u001b[0m \u001b[1;31m#35 covid - 50 pneu - 66 regular -Total 151\u001b[0m\u001b[1;33m\u001b[0m\u001b[1;33m\u001b[0m\u001b[1;33m\u001b[0m\u001b[0m\n\u001b[1;32m----> 2\u001b[1;33m \u001b[0mImage\u001b[0m\u001b[1;33m.\u001b[0m\u001b[0mopen\u001b[0m\u001b[1;33m(\u001b[0m\u001b[1;34m'picturepervideodata.png'\u001b[0m\u001b[1;33m)\u001b[0m\u001b[1;33m\u001b[0m\u001b[1;33m\u001b[0m\u001b[0m\n\u001b[0m",
      "\u001b[1;32m~\\AppData\\Roaming\\Python\\Python39\\site-packages\\PIL\\Image.py\u001b[0m in \u001b[0;36mopen\u001b[1;34m(fp, mode, formats)\u001b[0m\n\u001b[0;32m   2910\u001b[0m \u001b[1;33m\u001b[0m\u001b[0m\n\u001b[0;32m   2911\u001b[0m     \u001b[1;32mif\u001b[0m \u001b[0mfilename\u001b[0m\u001b[1;33m:\u001b[0m\u001b[1;33m\u001b[0m\u001b[1;33m\u001b[0m\u001b[0m\n\u001b[1;32m-> 2912\u001b[1;33m         \u001b[0mfp\u001b[0m \u001b[1;33m=\u001b[0m \u001b[0mbuiltins\u001b[0m\u001b[1;33m.\u001b[0m\u001b[0mopen\u001b[0m\u001b[1;33m(\u001b[0m\u001b[0mfilename\u001b[0m\u001b[1;33m,\u001b[0m \u001b[1;34m\"rb\"\u001b[0m\u001b[1;33m)\u001b[0m\u001b[1;33m\u001b[0m\u001b[1;33m\u001b[0m\u001b[0m\n\u001b[0m\u001b[0;32m   2913\u001b[0m         \u001b[0mexclusive_fp\u001b[0m \u001b[1;33m=\u001b[0m \u001b[1;32mTrue\u001b[0m\u001b[1;33m\u001b[0m\u001b[1;33m\u001b[0m\u001b[0m\n\u001b[0;32m   2914\u001b[0m \u001b[1;33m\u001b[0m\u001b[0m\n",
      "\u001b[1;31mFileNotFoundError\u001b[0m: [Errno 2] No such file or directory: 'picturepervideodata.png'"
     ]
    }
   ],
   "source": [
    "#35 covid - 50 pneu - 66 regular -Total 151\n",
    "Image.open('picturepervideodata.png')"
   ]
  },
  {
   "cell_type": "code",
   "execution_count": 13,
   "id": "4adbe07b",
   "metadata": {},
   "outputs": [],
   "source": [
    "#Setting path for our convex image dataset\n",
    "images_path='../data/pocus_images/convex/'"
   ]
  },
  {
   "cell_type": "code",
   "execution_count": 14,
   "id": "f5679268",
   "metadata": {},
   "outputs": [],
   "source": [
    "#Converting our data into a numpy array to be able to access it more freely\n",
    "data_array=my_data.to_numpy()"
   ]
  },
  {
   "cell_type": "markdown",
   "id": "cc81aa1b",
   "metadata": {},
   "source": [
    "# Image preProcessing"
   ]
  },
  {
   "cell_type": "code",
   "execution_count": 15,
   "id": "c076ccf5",
   "metadata": {},
   "outputs": [],
   "source": [
    "#Increasing Images contrast- resizing images to 224x224 - Incrasing Image contrast\n",
    "images_data=[]\n",
    "for i in data_array:\n",
    "    img = cv2.imread(images_path+i[0]+'.'+i[2], cv2.IMREAD_GRAYSCALE)\n",
    "    img=cv2.equalizeHist(img)\n",
    "    img=cv2.resize(img, (224,224), interpolation = cv2.INTER_AREA)\n",
    "    img_1d=img.reshape(224*224)\n",
    "    images_data.append(img_1d)"
   ]
  },
  {
   "cell_type": "markdown",
   "id": "a8e98f11",
   "metadata": {},
   "source": [
    "### Initializing our X and y"
   ]
  },
  {
   "cell_type": "code",
   "execution_count": 16,
   "id": "546c8d4c",
   "metadata": {},
   "outputs": [],
   "source": [
    "#Initializing our X and y for our model\n",
    "X=np.asarray(images_data)\n",
    "y=np.asarray(my_data['Label'])"
   ]
  },
  {
   "cell_type": "code",
   "execution_count": 17,
   "id": "27ed5ff4",
   "metadata": {},
   "outputs": [
    {
     "data": {
      "text/plain": [
       "(151, 50176)"
      ]
     },
     "execution_count": 17,
     "metadata": {},
     "output_type": "execute_result"
    }
   ],
   "source": [
    "X.shape"
   ]
  },
  {
   "cell_type": "code",
   "execution_count": 18,
   "id": "a88b50bb",
   "metadata": {},
   "outputs": [
    {
     "data": {
      "text/plain": [
       "(151,)"
      ]
     },
     "execution_count": 18,
     "metadata": {},
     "output_type": "execute_result"
    }
   ],
   "source": [
    "y.shape"
   ]
  },
  {
   "cell_type": "code",
   "execution_count": 19,
   "id": "b85c3a51",
   "metadata": {},
   "outputs": [],
   "source": [
    "# Splitting our set to Train and test  80 20\n",
    "from sklearn.model_selection import train_test_split\n",
    "X_train, X_test, y_train, y_test = train_test_split(X, y, test_size=0.2, random_state=42)"
   ]
  },
  {
   "cell_type": "code",
   "execution_count": 20,
   "id": "5483a873",
   "metadata": {},
   "outputs": [
    {
     "data": {
      "text/plain": [
       "(120, 50176)"
      ]
     },
     "execution_count": 20,
     "metadata": {},
     "output_type": "execute_result"
    }
   ],
   "source": [
    "X_train.shape"
   ]
  },
  {
   "cell_type": "markdown",
   "id": "0bacff03",
   "metadata": {},
   "source": [
    "# Multilabel SGD Model"
   ]
  },
  {
   "cell_type": "code",
   "execution_count": 21,
   "id": "7ee0d98c",
   "metadata": {},
   "outputs": [],
   "source": [
    "from sklearn.linear_model import SGDClassifier\n",
    "from sklearn.model_selection import cross_validate\n",
    "from sklearn.model_selection import cross_val_predict\n",
    "from sklearn.metrics import confusion_matrix \n",
    "from sklearn.metrics import f1_score\n",
    "from sklearn import metrics\n",
    "import matplotlib.ticker as mticker"
   ]
  },
  {
   "cell_type": "code",
   "execution_count": 22,
   "id": "58645d50",
   "metadata": {},
   "outputs": [
    {
     "data": {
      "text/plain": [
       "SGDClassifier(random_state=42)"
      ]
     },
     "execution_count": 22,
     "metadata": {},
     "output_type": "execute_result"
    }
   ],
   "source": [
    "sgd_clf_multi=SGDClassifier(random_state=42)\n",
    "sgd_clf_multi.fit( X_train, y_train)"
   ]
  },
  {
   "cell_type": "code",
   "execution_count": 23,
   "id": "edc21d73",
   "metadata": {},
   "outputs": [
    {
     "data": {
      "text/plain": [
       "{'fit_time': array([0.48171353, 0.42786789, 0.40293384, 0.47572613, 0.4517684 ]),\n",
       " 'score_time': array([0.032938  , 0.00597358, 0.00697064, 0.00702024, 0.00598407]),\n",
       " 'test_score': array([0.83333333, 0.83333333, 0.66666667, 0.66666667, 0.70833333])}"
      ]
     },
     "execution_count": 23,
     "metadata": {},
     "output_type": "execute_result"
    }
   ],
   "source": [
    "# 5 fold Cross validation\n",
    "cross_validate(sgd_clf_multi,X_train,y_train,cv=5,scoring=\"accuracy\")"
   ]
  },
  {
   "cell_type": "code",
   "execution_count": 24,
   "id": "d70374ba",
   "metadata": {},
   "outputs": [
    {
     "data": {
      "text/plain": [
       "array([[13,  7,  6],\n",
       "       [ 3, 30,  6],\n",
       "       [ 3,  6, 46]], dtype=int64)"
      ]
     },
     "execution_count": 24,
     "metadata": {},
     "output_type": "execute_result"
    }
   ],
   "source": [
    "#getting our y_predict for our confusion matrix\n",
    "y_train_predict=cross_val_predict(sgd_clf_multi,X_train,y_train,cv=5)\n",
    "conf_matrix=confusion_matrix(y_train,y_train_predict)\n",
    "conf_matrix"
   ]
  },
  {
   "cell_type": "code",
   "execution_count": 25,
   "id": "f4c478aa",
   "metadata": {},
   "outputs": [
    {
     "name": "stderr",
     "output_type": "stream",
     "text": [
      "<ipython-input-25-c5a8e6bca70d>:6: UserWarning: FixedFormatter should only be used together with FixedLocator\n",
      "  ax.set_xticklabels(['']+alpha)\n",
      "<ipython-input-25-c5a8e6bca70d>:7: UserWarning: FixedFormatter should only be used together with FixedLocator\n",
      "  ax.set_yticklabels(['']+alpha)\n"
     ]
    },
    {
     "data": {
      "image/png": "[encoded data removed]",
      "text/plain": [
       "<Figure size 432x288 with 2 Axes>"
      ]
     },
     "metadata": {
      "needs_background": "light"
     },
     "output_type": "display_data"
    }
   ],
   "source": [
    "alpha = ['Covid','Pneumonia','Regular']\n",
    "fig = plt.figure()\n",
    "ax = fig.add_subplot(111)\n",
    "cax=ax.matshow(conf_matrix, cmap=plt.cm.gray)\n",
    "fig.colorbar(cax)\n",
    "ax.set_xticklabels(['']+alpha)\n",
    "ax.set_yticklabels(['']+alpha)\n",
    "plt.show()"
   ]
  },
  {
   "cell_type": "code",
   "execution_count": 26,
   "id": "f9b46b87",
   "metadata": {},
   "outputs": [
    {
     "name": "stdout",
     "output_type": "stream",
     "text": [
      "              precision    recall  f1-score   support\n",
      "\n",
      "       covid      0.684     0.500     0.578        26\n",
      "   pneumonia      0.698     0.769     0.732        39\n",
      "     regular      0.793     0.836     0.814        55\n",
      "\n",
      "    accuracy                          0.742       120\n",
      "   macro avg      0.725     0.702     0.708       120\n",
      "weighted avg      0.738     0.742     0.736       120\n",
      "\n"
     ]
    }
   ],
   "source": [
    "print(metrics.classification_report(y_train, y_train_predict, digits=3))"
   ]
  },
  {
   "cell_type": "code",
   "execution_count": 27,
   "id": "484a51e8",
   "metadata": {},
   "outputs": [
    {
     "data": {
      "text/plain": [
       "{'fit_time': array([0.10671449, 0.07776093, 0.10076404, 0.07878923, 0.07677913]),\n",
       " 'score_time': array([0.00199628, 0.00199318, 0.00195694, 0.00198889, 0.00397038]),\n",
       " 'test_score': array([0.71428571, 0.5       , 0.83333333, 0.66666667, 0.83333333])}"
      ]
     },
     "execution_count": 27,
     "metadata": {},
     "output_type": "execute_result"
    }
   ],
   "source": [
    "# 5 fold Cross validation\n",
    "cross_validate(sgd_clf_multi,X_test,y_test,cv=5,scoring=\"accuracy\")"
   ]
  },
  {
   "cell_type": "code",
   "execution_count": 30,
   "id": "eadeb49c",
   "metadata": {},
   "outputs": [
    {
     "data": {
      "text/plain": [
       "array([[5, 1, 3],\n",
       "       [2, 9, 0],\n",
       "       [0, 3, 8]], dtype=int64)"
      ]
     },
     "execution_count": 30,
     "metadata": {},
     "output_type": "execute_result"
    }
   ],
   "source": [
    "y_train_predict=cross_val_predict(sgd_clf_multi,X_test,y_test,cv=5)\n",
    "conf_matrix=confusion_matrix(y_test,y_train_predict)\n",
    "conf_matrix"
   ]
  },
  {
   "cell_type": "code",
   "execution_count": 31,
   "id": "67aae321",
   "metadata": {},
   "outputs": [
    {
     "name": "stdout",
     "output_type": "stream",
     "text": [
      "              precision    recall  f1-score   support\n",
      "\n",
      "       covid      0.714     0.556     0.625         9\n",
      "   pneumonia      0.692     0.818     0.750        11\n",
      "     regular      0.727     0.727     0.727        11\n",
      "\n",
      "    accuracy                          0.710        31\n",
      "   macro avg      0.711     0.700     0.701        31\n",
      "weighted avg      0.711     0.710     0.706        31\n",
      "\n"
     ]
    }
   ],
   "source": [
    "print(metrics.classification_report(y_test, y_train_predict, digits=3))"
   ]
  },
  {
   "cell_type": "code",
   "execution_count": null,
   "id": "7c53fe50",
   "metadata": {},
   "outputs": [],
   "source": []
  }
 ],
 "metadata": {
  "kernelspec": {
   "display_name": "Python 3",
   "language": "python",
   "name": "python3"
  },
  "language_info": {
   "codemirror_mode": {
    "name": "ipython",
    "version": 3
   },
   "file_extension": ".py",
   "mimetype": "text/x-python",
   "name": "python",
   "nbconvert_exporter": "python",
   "pygments_lexer": "ipython3",
   "version": "3.9.3"
  }
 },
 "nbformat": 4,
 "nbformat_minor": 5
}
