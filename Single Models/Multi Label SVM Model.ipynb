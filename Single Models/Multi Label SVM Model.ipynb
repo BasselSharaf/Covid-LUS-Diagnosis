{
 "cells": [
  {
   "cell_type": "code",
   "execution_count": 1,
   "id": "professional-period",
   "metadata": {},
   "outputs": [],
   "source": [
    "import numpy as np\n",
    "import pandas as pd\n",
    "from matplotlib import pyplot as plt\n",
    "import cv2\n",
    "from PIL import Image\n"
   ]
  },
  {
   "cell_type": "code",
   "execution_count": 2,
   "id": "6713b536",
   "metadata": {},
   "outputs": [],
   "source": [
    "#Reading CSV file data\n",
    "my_data=pd.read_csv('../data/image_data.csv')"
   ]
  },
  {
   "cell_type": "code",
   "execution_count": 3,
   "id": "0739883f",
   "metadata": {},
   "outputs": [
    {
     "data": {
      "text/html": [
       "<div>\n",
       "<style scoped>\n",
       "    .dataframe tbody tr th:only-of-type {\n",
       "        vertical-align: middle;\n",
       "    }\n",
       "\n",
       "    .dataframe tbody tr th {\n",
       "        vertical-align: top;\n",
       "    }\n",
       "\n",
       "    .dataframe thead th {\n",
       "        text-align: right;\n",
       "    }\n",
       "</style>\n",
       "<table border=\"1\" class=\"dataframe\">\n",
       "  <thead>\n",
       "    <tr style=\"text-align: right;\">\n",
       "      <th></th>\n",
       "      <th>FileName</th>\n",
       "      <th>Label</th>\n",
       "      <th>Format</th>\n",
       "    </tr>\n",
       "  </thead>\n",
       "  <tbody>\n",
       "    <tr>\n",
       "      <th>0</th>\n",
       "      <td>Cov-Atlas+(44)V</td>\n",
       "      <td>covid</td>\n",
       "      <td>jpg</td>\n",
       "    </tr>\n",
       "    <tr>\n",
       "      <th>1</th>\n",
       "      <td>Cov-Atlas+(45)V</td>\n",
       "      <td>covid</td>\n",
       "      <td>jpg</td>\n",
       "    </tr>\n",
       "    <tr>\n",
       "      <th>2</th>\n",
       "      <td>Cov-Atlas-+(43)V</td>\n",
       "      <td>covid</td>\n",
       "      <td>jpg</td>\n",
       "    </tr>\n",
       "    <tr>\n",
       "      <th>3</th>\n",
       "      <td>Cov-Atlas-Day+1V</td>\n",
       "      <td>covid</td>\n",
       "      <td>jpg</td>\n",
       "    </tr>\n",
       "    <tr>\n",
       "      <th>4</th>\n",
       "      <td>Cov-Atlas-Day+2V</td>\n",
       "      <td>covid</td>\n",
       "      <td>jpg</td>\n",
       "    </tr>\n",
       "  </tbody>\n",
       "</table>\n",
       "</div>"
      ],
      "text/plain": [
       "           FileName  Label Format\n",
       "0   Cov-Atlas+(44)V  covid    jpg\n",
       "1   Cov-Atlas+(45)V  covid    jpg\n",
       "2  Cov-Atlas-+(43)V  covid    jpg\n",
       "3  Cov-Atlas-Day+1V  covid    jpg\n",
       "4  Cov-Atlas-Day+2V  covid    jpg"
      ]
     },
     "execution_count": 3,
     "metadata": {},
     "output_type": "execute_result"
    }
   ],
   "source": [
    "my_data.head()"
   ]
  },
  {
   "cell_type": "code",
   "execution_count": 4,
   "id": "d1547c91",
   "metadata": {},
   "outputs": [
    {
     "data": {
      "image/png": "[encoded data removed]",
      "text/plain": [
       "<PIL.PngImagePlugin.PngImageFile image mode=RGBA size=635x394 at 0x16DFE3EC2E0>"
      ]
     },
     "execution_count": 4,
     "metadata": {},
     "output_type": "execute_result"
    }
   ],
   "source": [
    "#35 covid - 50 pneu - 66 regular\n",
    "Image.open('../picturepervideodata.png')"
   ]
  },
  {
   "cell_type": "code",
   "execution_count": 5,
   "id": "4adbe07b",
   "metadata": {},
   "outputs": [],
   "source": [
    "#Setting path for our convex image dataset\n",
    "images_path='../data/pocus_images/convex/'"
   ]
  },
  {
   "cell_type": "code",
   "execution_count": 6,
   "id": "f5679268",
   "metadata": {},
   "outputs": [],
   "source": [
    "#Converting our data into a numpy array to be able to access it more freely\n",
    "data_array=my_data.to_numpy()"
   ]
  },
  {
   "cell_type": "markdown",
   "id": "cc81aa1b",
   "metadata": {},
   "source": [
    "# Image Preprocessing"
   ]
  },
  {
   "cell_type": "code",
   "execution_count": 7,
   "id": "c076ccf5",
   "metadata": {},
   "outputs": [],
   "source": [
    "#Increasing Images contrast- resizing images to 224x224 - Incrasing Image contrast\n",
    "images_data=[]\n",
    "for i in data_array:\n",
    "    img = cv2.imread(images_path+i[0]+'.'+i[2], cv2.IMREAD_GRAYSCALE)\n",
    "    img=cv2.equalizeHist(img)\n",
    "    img=cv2.resize(img, (224,224), interpolation = cv2.INTER_AREA)\n",
    "    img_1d=img.reshape(224*224)\n",
    "    images_data.append(img_1d)"
   ]
  },
  {
   "cell_type": "markdown",
   "id": "a8e98f11",
   "metadata": {},
   "source": [
    "### Initializing our X and y"
   ]
  },
  {
   "cell_type": "code",
   "execution_count": 8,
   "id": "546c8d4c",
   "metadata": {},
   "outputs": [],
   "source": [
    "#Initializing our X and y for our model\n",
    "X=np.asarray(images_data)\n",
    "y=np.asarray(my_data['Label'])"
   ]
  },
  {
   "cell_type": "code",
   "execution_count": 9,
   "id": "27ed5ff4",
   "metadata": {},
   "outputs": [
    {
     "data": {
      "text/plain": [
       "(151, 50176)"
      ]
     },
     "execution_count": 9,
     "metadata": {},
     "output_type": "execute_result"
    }
   ],
   "source": [
    "X.shape"
   ]
  },
  {
   "cell_type": "code",
   "execution_count": 10,
   "id": "a88b50bb",
   "metadata": {},
   "outputs": [
    {
     "data": {
      "text/plain": [
       "(151,)"
      ]
     },
     "execution_count": 10,
     "metadata": {},
     "output_type": "execute_result"
    }
   ],
   "source": [
    "y.shape"
   ]
  },
  {
   "cell_type": "code",
   "execution_count": 11,
   "id": "b85c3a51",
   "metadata": {},
   "outputs": [],
   "source": [
    "# Splitting our set to Train and test  80 20\n",
    "from sklearn.model_selection import train_test_split\n",
    "X_train, X_test, y_train, y_test = train_test_split(X, y, test_size=0.2, random_state=42)"
   ]
  },
  {
   "cell_type": "code",
   "execution_count": 12,
   "id": "5483a873",
   "metadata": {},
   "outputs": [
    {
     "data": {
      "text/plain": [
       "(120, 50176)"
      ]
     },
     "execution_count": 12,
     "metadata": {},
     "output_type": "execute_result"
    }
   ],
   "source": [
    "X_train.shape"
   ]
  },
  {
   "cell_type": "markdown",
   "id": "ee3a7ba9",
   "metadata": {},
   "source": [
    "# SVM Model"
   ]
  },
  {
   "cell_type": "code",
   "execution_count": 13,
   "id": "99eadb57",
   "metadata": {},
   "outputs": [],
   "source": [
    "#Trying out support vector machine model\n",
    "from sklearn.pipeline import make_pipeline\n",
    "from sklearn.preprocessing import StandardScaler\n",
    "from sklearn.svm import SVC\n",
    "from sklearn.model_selection import cross_validate\n",
    "from sklearn.model_selection import cross_val_predict\n",
    "from sklearn.metrics import confusion_matrix \n",
    "from sklearn.metrics import f1_score\n",
    "from sklearn import metrics\n",
    "\n",
    "svm_clf = make_pipeline(StandardScaler(), SVC(gamma='auto',random_state=42))"
   ]
  },
  {
   "cell_type": "code",
   "execution_count": 14,
   "id": "6eb4c072",
   "metadata": {},
   "outputs": [
    {
     "data": {
      "text/plain": [
       "Pipeline(steps=[('standardscaler', StandardScaler()),\n",
       "                ('svc', SVC(gamma='auto', random_state=42))])"
      ]
     },
     "execution_count": 14,
     "metadata": {},
     "output_type": "execute_result"
    }
   ],
   "source": [
    "svm_clf.fit(X_train, y_train)"
   ]
  },
  {
   "cell_type": "code",
   "execution_count": 15,
   "id": "27df2682",
   "metadata": {},
   "outputs": [
    {
     "data": {
      "text/plain": [
       "{'fit_time': array([0.75897193, 0.7968719 , 0.71708226, 0.71309566, 0.73703146]),\n",
       " 'score_time': array([0.17453289, 0.18749833, 0.17453551, 0.16954684, 0.17752528]),\n",
       " 'test_score': array([0.79166667, 0.79166667, 0.79166667, 0.66666667, 0.75      ])}"
      ]
     },
     "execution_count": 15,
     "metadata": {},
     "output_type": "execute_result"
    }
   ],
   "source": [
    "# 5 fold cross validation 72.8\n",
    "cross_validate(svm_clf,X_train,y_train,cv=5,scoring=\"accuracy\")"
   ]
  },
  {
   "cell_type": "code",
   "execution_count": 16,
   "id": "5c90cf81",
   "metadata": {},
   "outputs": [
    {
     "data": {
      "text/plain": [
       "array([[15,  7,  4],\n",
       "       [ 1, 30,  8],\n",
       "       [ 4,  5, 46]], dtype=int64)"
      ]
     },
     "execution_count": 16,
     "metadata": {},
     "output_type": "execute_result"
    }
   ],
   "source": [
    "y_train_predict_2=cross_val_predict(svm_clf,X_train,y_train,cv=5)\n",
    "conf_matrix=confusion_matrix(y_train,y_train_predict_2)\n",
    "conf_matrix"
   ]
  },
  {
   "cell_type": "code",
   "execution_count": 17,
   "id": "dd6fe071",
   "metadata": {},
   "outputs": [
    {
     "name": "stderr",
     "output_type": "stream",
     "text": [
      "<ipython-input-17-c5a8e6bca70d>:6: UserWarning: FixedFormatter should only be used together with FixedLocator\n",
      "  ax.set_xticklabels(['']+alpha)\n",
      "<ipython-input-17-c5a8e6bca70d>:7: UserWarning: FixedFormatter should only be used together with FixedLocator\n",
      "  ax.set_yticklabels(['']+alpha)\n"
     ]
    },
    {
     "data": {
      "image/png": "[encoded data removed]",
      "text/plain": [
       "<Figure size 432x288 with 2 Axes>"
      ]
     },
     "metadata": {
      "needs_background": "light"
     },
     "output_type": "display_data"
    }
   ],
   "source": [
    "alpha = ['Covid','Pneumonia','Regular']\n",
    "fig = plt.figure()\n",
    "ax = fig.add_subplot(111)\n",
    "cax=ax.matshow(conf_matrix, cmap=plt.cm.gray)\n",
    "fig.colorbar(cax)\n",
    "ax.set_xticklabels(['']+alpha)\n",
    "ax.set_yticklabels(['']+alpha)\n",
    "plt.show()"
   ]
  },
  {
   "cell_type": "code",
   "execution_count": 18,
   "id": "f2501838",
   "metadata": {
    "scrolled": true
   },
   "outputs": [
    {
     "name": "stdout",
     "output_type": "stream",
     "text": [
      "              precision    recall  f1-score   support\n",
      "\n",
      "       covid      0.750     0.577     0.652        26\n",
      "   pneumonia      0.714     0.769     0.741        39\n",
      "     regular      0.793     0.836     0.814        55\n",
      "\n",
      "    accuracy                          0.758       120\n",
      "   macro avg      0.752     0.728     0.736       120\n",
      "weighted avg      0.758     0.758     0.755       120\n",
      "\n"
     ]
    }
   ],
   "source": [
    "print(metrics.classification_report(y_train, y_train_predict_2, digits=3))"
   ]
  },
  {
   "cell_type": "code",
   "execution_count": 19,
   "id": "02e798e4",
   "metadata": {},
   "outputs": [
    {
     "data": {
      "text/plain": [
       "{'fit_time': array([0.10574436, 0.09377527, 0.09773827, 0.09776616, 0.09676886]),\n",
       " 'score_time': array([0.01792455, 0.01593161, 0.01695585, 0.01692748, 0.01892257]),\n",
       " 'test_score': array([0.85714286, 0.66666667, 0.83333333, 0.66666667, 0.66666667])}"
      ]
     },
     "execution_count": 19,
     "metadata": {},
     "output_type": "execute_result"
    }
   ],
   "source": [
    "cross_validate(svm_clf,X_test,y_test,cv=5,scoring=\"accuracy\")"
   ]
  },
  {
   "cell_type": "code",
   "execution_count": 23,
   "id": "8089f08f",
   "metadata": {},
   "outputs": [
    {
     "data": {
      "text/plain": [
       "array([[ 4,  3,  2],\n",
       "       [ 1, 10,  0],\n",
       "       [ 1,  1,  9]], dtype=int64)"
      ]
     },
     "execution_count": 23,
     "metadata": {},
     "output_type": "execute_result"
    }
   ],
   "source": [
    "y_train_predict_2=cross_val_predict(svm_clf,X_test,y_test,cv=5)\n",
    "conf_matrix=confusion_matrix(y_test,y_train_predict_2)\n",
    "conf_matrix"
   ]
  },
  {
   "cell_type": "code",
   "execution_count": 22,
   "id": "758cadff",
   "metadata": {},
   "outputs": [
    {
     "name": "stdout",
     "output_type": "stream",
     "text": [
      "              precision    recall  f1-score   support\n",
      "\n",
      "       covid      0.667     0.444     0.533         9\n",
      "   pneumonia      0.714     0.909     0.800        11\n",
      "     regular      0.818     0.818     0.818        11\n",
      "\n",
      "    accuracy                          0.742        31\n",
      "   macro avg      0.733     0.724     0.717        31\n",
      "weighted avg      0.737     0.742     0.729        31\n",
      "\n"
     ]
    }
   ],
   "source": [
    "print(metrics.classification_report(y_test, y_train_predict_2, digits=3))"
   ]
  },
  {
   "cell_type": "code",
   "execution_count": null,
   "id": "de2218bc",
   "metadata": {},
   "outputs": [],
   "source": []
  }
 ],
 "metadata": {
  "kernelspec": {
   "display_name": "Python 3",
   "language": "python",
   "name": "python3"
  },
  "language_info": {
   "codemirror_mode": {
    "name": "ipython",
    "version": 3
   },
   "file_extension": ".py",
   "mimetype": "text/x-python",
   "name": "python",
   "nbconvert_exporter": "python",
   "pygments_lexer": "ipython3",
   "version": "3.9.3"
  }
 },
 "nbformat": 4,
 "nbformat_minor": 5
}
