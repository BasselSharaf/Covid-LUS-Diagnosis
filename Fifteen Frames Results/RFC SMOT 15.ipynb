{
 "cells": [
  {
   "cell_type": "code",
   "execution_count": 1,
   "id": "d4ae7b21",
   "metadata": {},
   "outputs": [],
   "source": [
    "%matplotlib inline"
   ]
  },
  {
   "cell_type": "code",
   "execution_count": 26,
   "id": "98f8aefe",
   "metadata": {},
   "outputs": [],
   "source": [
    "import cv2\n",
    "import os\n",
    "import math\n",
    "import sys\n",
    "import numpy as np\n",
    "import pandas as pd\n",
    "import matplotlib.pyplot as plt\n",
    "\n",
    "from PIL import Image\n",
    "from sklearn.metrics import confusion_matrix\n",
    "from sklearn.metrics import classification_report\n",
    "from sklearn.model_selection import train_test_split\n",
    "from tensorflow.keras.models import load_model\n",
    "from sklearn import preprocessing\n",
    "from tensorflow.keras.models import Sequential\n",
    "from tensorflow.keras.layers import Dense, Conv2D, Flatten\n",
    "from tensorflow.keras.utils import to_categorical\n",
    "from tensorflow.keras.models import Sequential\n",
    "from tensorflow.keras.layers import Dense, Conv2D, Flatten,MaxPooling2D,Dropout\n",
    "from sklearn.linear_model import LogisticRegression\n",
    "from tensorflow.keras.preprocessing.image import ImageDataGenerator\n",
    "from tensorflow.keras.callbacks import (\n",
    "    EarlyStopping, ModelCheckpoint, ReduceLROnPlateau\n",
    ")\n",
    "from sklearn.preprocessing import StandardScaler\n",
    "from sklearn.pipeline import make_pipeline\n",
    "from sklearn.svm import SVC\n",
    "from tensorflow.keras.optimizers import Adam,SGD\n",
    "from imblearn.over_sampling import SMOTE\n",
    "from collections import Counter\n",
    "from sklearn.ensemble import RandomForestClassifier\n",
    "from mostCommon import most_common,patient_score"
   ]
  },
  {
   "cell_type": "code",
   "execution_count": 27,
   "id": "b6c5fff9",
   "metadata": {},
   "outputs": [],
   "source": [
    "IMAGE_WIDTH=224\n",
    "IMAGE_HEIGHT=224"
   ]
  },
  {
   "cell_type": "code",
   "execution_count": 28,
   "id": "23a362de",
   "metadata": {},
   "outputs": [
    {
     "name": "stdout",
     "output_type": "stream",
     "text": [
      "Counter({'regular': 840, 'pneumonia': 540, 'covid': 450})\n"
     ]
    }
   ],
   "source": [
    "#Load all patients \n",
    "my_data = pd.read_csv('../data/Fifteen_Frames_Per_patient.csv')\n",
    "patients_data=pd.read_csv('../data/videos_data.csv')\n",
    "data_array = my_data.to_numpy()\n",
    "patients_array=patients_data[\"FileName\"].to_numpy()\n",
    "images_path = '../data/Fifteen_Frames_Per_patient/'\n",
    "no_of_test_patients=math.floor(patients_array.size*0.2) \n",
    "images_data = []\n",
    "models = []\n",
    "\n",
    "df=my_data\n",
    "data_array=df.to_numpy()\n",
    "for i in data_array:\n",
    "    img = cv2.imread(images_path + i[0] + '.' + i[2], cv2.IMREAD_GRAYSCALE)\n",
    "    img=  cv2.equalizeHist(img)\n",
    "    img = cv2.resize(img, (IMAGE_WIDTH, IMAGE_HEIGHT))\n",
    "    img_2d = img.reshape(IMAGE_WIDTH ,IMAGE_HEIGHT,1)\n",
    "    images_data.append(img_2d)\n",
    "\n",
    "X=np.asarray(images_data)\n",
    "y = np.asarray(my_data['Label'])\n",
    "print(Counter(y))"
   ]
  },
  {
   "cell_type": "code",
   "execution_count": 29,
   "id": "18a3f119",
   "metadata": {},
   "outputs": [],
   "source": [
    "testPatient_indexes= [1,2,12,14,15,22,\n",
    "                      33,34,37,42,43,52,53,\n",
    "                      92,95,96,99,101,102,104,107,110,115,118]\n"
   ]
  },
  {
   "cell_type": "code",
   "execution_count": 30,
   "id": "4d960910",
   "metadata": {},
   "outputs": [],
   "source": [
    "#getting frame indexes of each patient\n",
    "frames_index=[]\n",
    "for i in testPatient_indexes:\n",
    "  j=i*15\n",
    "  z=j+15\n",
    "  while j<z:\n",
    "    frames_index.append(j)\n",
    "    j+=1\n",
    "\n",
    "# Adding the frames to X_test\n",
    "X_test=np.take(X,frames_index,axis=0)\n",
    "y_test=np.take(y,frames_index,axis=0)\n",
    "# Removing the frames from X_train\n",
    "X_train=np.delete(X,frames_index,axis=0)\n",
    "y_train=np.delete(y,frames_index,axis=0)\n",
    "\n",
    "# Scale the pixels\n",
    "X_train=X_train/255.0\n",
    "X_test=X_test/255.0"
   ]
  },
  {
   "cell_type": "code",
   "execution_count": 31,
   "id": "4752071b",
   "metadata": {},
   "outputs": [
    {
     "name": "stdout",
     "output_type": "stream",
     "text": [
      "Counter({'covid': 675, 'pneumonia': 675, 'regular': 675})\n"
     ]
    }
   ],
   "source": [
    "#Applying SMOTE\n",
    "oversample = SMOTE()\n",
    "X_train=np.resize(X_train,(X_train.shape[0],50176))\n",
    "X_train,y_train=oversample.fit_resample(X_train, y_train)\n",
    "counter=Counter(y_train)\n",
    "print(counter)"
   ]
  },
  {
   "cell_type": "code",
   "execution_count": 32,
   "id": "33a15d85",
   "metadata": {},
   "outputs": [
    {
     "name": "stdout",
     "output_type": "stream",
     "text": [
      "X_train: (2025, 50176)\n",
      "y_train: (2025,)\n",
      "X_test: (360, 224, 224, 1)\n",
      "y_test: (360,)\n"
     ]
    }
   ],
   "source": [
    "print('X_train: '+str(X_train.shape))\n",
    "print('y_train: '+str(y_train.shape))\n",
    "print('X_test: '+ str(X_test.shape))\n",
    "print('y_test: '+ str(y_test.shape))"
   ]
  },
  {
   "cell_type": "code",
   "execution_count": 33,
   "id": "d98cc369",
   "metadata": {},
   "outputs": [
    {
     "data": {
      "text/plain": [
       "RandomForestClassifier(max_depth=10000, random_state=42)"
      ]
     },
     "execution_count": 33,
     "metadata": {},
     "output_type": "execute_result"
    }
   ],
   "source": [
    "model=RandomForestClassifier(max_depth=10000, random_state=42)\n",
    "model.fit(X_train,y_train)"
   ]
  },
  {
   "cell_type": "code",
   "execution_count": 34,
   "id": "cf01ec65",
   "metadata": {},
   "outputs": [],
   "source": [
    "X_test=np.resize(X_test,(X_test.shape[0],50176))\n",
    "y_pred=model.predict(X_test)"
   ]
  },
  {
   "cell_type": "code",
   "execution_count": 35,
   "id": "6fe37205",
   "metadata": {
    "scrolled": true
   },
   "outputs": [
    {
     "name": "stdout",
     "output_type": "stream",
     "text": [
      "[[ 85   0   5]\n",
      " [  0  95  10]\n",
      " [  0  23 142]]\n",
      "              precision    recall  f1-score   support\n",
      "\n",
      "       covid      1.000     0.944     0.971        90\n",
      "   pneumonia      0.805     0.905     0.852       105\n",
      "     regular      0.904     0.861     0.882       165\n",
      "\n",
      "    accuracy                          0.894       360\n",
      "   macro avg      0.903     0.903     0.902       360\n",
      "weighted avg      0.899     0.894     0.896       360\n",
      "\n",
      "[[6 0 0]\n",
      " [0 7 0]\n",
      " [0 2 9]]\n",
      "              precision    recall  f1-score   support\n",
      "\n",
      "       covid      1.000     1.000     1.000         6\n",
      "   pneumonia      0.778     1.000     0.875         7\n",
      "     regular      1.000     0.818     0.900        11\n",
      "\n",
      "    accuracy                          0.917        24\n",
      "   macro avg      0.926     0.939     0.925        24\n",
      "weighted avg      0.935     0.917     0.918        24\n",
      "\n"
     ]
    }
   ],
   "source": [
    "print(confusion_matrix(y_test,y_pred))\n",
    "print(classification_report(y_test,y_pred, digits=3))\n",
    "patient_score(y_test,y_pred)"
   ]
  },
  {
   "cell_type": "code",
   "execution_count": 36,
   "id": "39c281f9",
   "metadata": {},
   "outputs": [
    {
     "name": "stdout",
     "output_type": "stream",
     "text": [
      "0.88 accuracy with a standard deviation of 0.13\n"
     ]
    }
   ],
   "source": [
    ">>> from sklearn.model_selection import cross_val_score\n",
    "\n",
    "scores=cross_val_score(model, X_test, y_test, cv=5)\n",
    "print(\"%0.2f accuracy with a standard deviation of %0.2f\" % (scores.mean(), scores.std()))"
   ]
  },
  {
   "cell_type": "code",
   "execution_count": 37,
   "id": "5d95a3d9",
   "metadata": {},
   "outputs": [
    {
     "name": "stdout",
     "output_type": "stream",
     "text": [
      "Counter({'regular': 840, 'pneumonia': 540, 'covid': 450})\n",
      "X_train: (1470, 50176)\n",
      "y_train: (1470,)\n",
      "X_test: (360, 224, 224, 1)\n",
      "y_test: (360,)\n",
      "[[ 87   0   3]\n",
      " [  0 104   1]\n",
      " [  1  22 142]]\n",
      "              precision    recall  f1-score   support\n",
      "\n",
      "       covid      0.989     0.967     0.978        90\n",
      "   pneumonia      0.825     0.990     0.900       105\n",
      "     regular      0.973     0.861     0.913       165\n",
      "\n",
      "    accuracy                          0.925       360\n",
      "   macro avg      0.929     0.939     0.930       360\n",
      "weighted avg      0.934     0.925     0.926       360\n",
      "\n",
      "[[ 6  0  0]\n",
      " [ 0  7  0]\n",
      " [ 0  1 10]]\n",
      "              precision    recall  f1-score   support\n",
      "\n",
      "       covid      1.000     1.000     1.000         6\n",
      "   pneumonia      0.875     1.000     0.933         7\n",
      "     regular      1.000     0.909     0.952        11\n",
      "\n",
      "    accuracy                          0.958        24\n",
      "   macro avg      0.958     0.970     0.962        24\n",
      "weighted avg      0.964     0.958     0.959        24\n",
      "\n",
      "0.71 accuracy with a standard deviation of 0.11\n"
     ]
    }
   ],
   "source": [
    "IMAGE_WIDTH=224\n",
    "IMAGE_HEIGHT=224\n",
    "#Load all patients \n",
    "my_data = pd.read_csv('../data/Fifteen_Frames_Per_patient.csv')\n",
    "patients_data=pd.read_csv('../data/videos_data.csv')\n",
    "data_array = my_data.to_numpy()\n",
    "patients_array=patients_data[\"FileName\"].to_numpy()\n",
    "images_path = '../data/Fifteen_Frames_Per_patient/'\n",
    "no_of_test_patients=math.floor(patients_array.size*0.2) \n",
    "images_data = []\n",
    "models = []\n",
    "\n",
    "df=my_data\n",
    "data_array=df.to_numpy()\n",
    "for i in data_array:\n",
    "    img = cv2.imread(images_path + i[0] + '.' + i[2], cv2.IMREAD_GRAYSCALE)\n",
    "    img=  cv2.equalizeHist(img)\n",
    "    img = cv2.resize(img, (IMAGE_WIDTH, IMAGE_HEIGHT))\n",
    "    img_2d = img.reshape(IMAGE_WIDTH ,IMAGE_HEIGHT,1)\n",
    "    images_data.append(img_2d)\n",
    "\n",
    "X=np.asarray(images_data)\n",
    "y = np.asarray(my_data['Label'])\n",
    "print(Counter(y))\n",
    "\n",
    "testPatient_indexes= [1,2,12,14,15,22,\n",
    "                      33,34,37,42,43,52,53,\n",
    "                      92,95,96,99,101,102,104,107,110,115,118]\n",
    "#getting frame indexes of each patient\n",
    "frames_index=[]\n",
    "for i in testPatient_indexes:\n",
    "  j=i*15\n",
    "  z=j+15\n",
    "  while j<z:\n",
    "    frames_index.append(j)\n",
    "    j+=1\n",
    "\n",
    "# Adding the frames to X_test\n",
    "X_test=np.take(X,frames_index,axis=0)\n",
    "y_test=np.take(y,frames_index,axis=0)\n",
    "# Removing the frames from X_train\n",
    "X_train=np.delete(X,frames_index,axis=0)\n",
    "y_train=np.delete(y,frames_index,axis=0)\n",
    "\n",
    "# Scale the pixels\n",
    "X_train=X_train/255.0\n",
    "X_test=X_test/255.0\n",
    "X_train=np.resize(X_train,(X_train.shape[0],50176))\n",
    "print('X_train: '+str(X_train.shape))\n",
    "print('y_train: '+str(y_train.shape))\n",
    "print('X_test: '+ str(X_test.shape))\n",
    "print('y_test: '+ str(y_test.shape))\n",
    "model=RandomForestClassifier(max_depth=10000, random_state=42)\n",
    "model.fit(X_train,y_train)\n",
    "X_test=np.resize(X_test,(X_test.shape[0],50176))\n",
    "y_pred=model.predict(X_test)\n",
    "print(confusion_matrix(y_test,y_pred))\n",
    "print(classification_report(y_test,y_pred, digits=3))\n",
    "patient_score(y_test,y_pred)\n",
    "from sklearn.model_selection import cross_val_score\n",
    "\n",
    "scores=cross_val_score(model, X_train, y_train, cv=5)\n",
    "print(\"%0.2f accuracy with a standard deviation of %0.2f\" % (scores.mean(), scores.std()))"
   ]
  },
  {
   "cell_type": "code",
   "execution_count": 38,
   "id": "123e1029",
   "metadata": {},
   "outputs": [
    {
     "name": "stdout",
     "output_type": "stream",
     "text": [
      "Counter({'regular': 840, 'pneumonia': 540, 'covid': 450})\n",
      "X_train: (1470, 116)\n",
      "y_train: (1470,)\n",
      "X_test: (360, 116)\n",
      "y_test: (360,)\n",
      "[[ 66  12  12]\n",
      " [  2  92  11]\n",
      " [  0  28 137]]\n",
      "              precision    recall  f1-score   support\n",
      "\n",
      "       covid      0.971     0.733     0.835        90\n",
      "   pneumonia      0.697     0.876     0.776       105\n",
      "     regular      0.856     0.830     0.843       165\n",
      "\n",
      "    accuracy                          0.819       360\n",
      "   macro avg      0.841     0.813     0.818       360\n",
      "weighted avg      0.838     0.819     0.822       360\n",
      "\n",
      "[[4 1 1]\n",
      " [0 6 1]\n",
      " [0 2 9]]\n",
      "              precision    recall  f1-score   support\n",
      "\n",
      "       covid      1.000     0.667     0.800         6\n",
      "   pneumonia      0.667     0.857     0.750         7\n",
      "     regular      0.818     0.818     0.818        11\n",
      "\n",
      "    accuracy                          0.792        24\n",
      "   macro avg      0.828     0.781     0.789        24\n",
      "weighted avg      0.819     0.792     0.794        24\n",
      "\n",
      "0.68 accuracy with a standard deviation of 0.06\n"
     ]
    }
   ],
   "source": [
    "from sklearn.preprocessing import StandardScaler\n",
    "from sklearn.decomposition import PCA\n",
    "IMAGE_WIDTH=224\n",
    "IMAGE_HEIGHT=224\n",
    "#Load all patients \n",
    "my_data = pd.read_csv('../data/Fifteen_Frames_Per_patient.csv')\n",
    "patients_data=pd.read_csv('../data/videos_data.csv')\n",
    "data_array = my_data.to_numpy()\n",
    "patients_array=patients_data[\"FileName\"].to_numpy()\n",
    "images_path = '../data/Fifteen_Frames_Per_patient/'\n",
    "no_of_test_patients=math.floor(patients_array.size*0.2) \n",
    "images_data = []\n",
    "models = []\n",
    "\n",
    "df=my_data\n",
    "data_array=df.to_numpy()\n",
    "for i in data_array:\n",
    "    img = cv2.imread(images_path + i[0] + '.' + i[2], cv2.IMREAD_GRAYSCALE)\n",
    "    img=  cv2.equalizeHist(img)\n",
    "    img = cv2.resize(img, (IMAGE_WIDTH, IMAGE_HEIGHT))\n",
    "    img_1d = img.reshape(224 * 224)\n",
    "    images_data.append(img_1d)\n",
    "\n",
    "X=np.asarray(images_data)\n",
    "y = np.asarray(my_data['Label'])\n",
    "print(Counter(y))\n",
    "scaler = StandardScaler()\n",
    "# Fit on training set only\n",
    "scaler.fit(X)\n",
    "# Apply transform on both training and test set\n",
    "\n",
    "X = scaler.transform(X)\n",
    "pca = PCA(.95)\n",
    "pca.fit(X)\n",
    "X = pca.transform(X)\n",
    "\n",
    "testPatient_indexes= [1,2,12,14,15,22,\n",
    "                      33,34,37,42,43,52,53,\n",
    "                      92,95,96,99,101,102,104,107,110,115,118]\n",
    "#getting frame indexes of each patient\n",
    "frames_index=[]\n",
    "for i in testPatient_indexes:\n",
    "  j=i*15\n",
    "  z=j+15\n",
    "  while j<z:\n",
    "    frames_index.append(j)\n",
    "    j+=1\n",
    "\n",
    "# Adding the frames to X_test\n",
    "X_test=np.take(X,frames_index,axis=0)\n",
    "y_test=np.take(y,frames_index,axis=0)\n",
    "# Removing the frames from X_train\n",
    "X_train=np.delete(X,frames_index,axis=0)\n",
    "y_train=np.delete(y,frames_index,axis=0)\n",
    "\n",
    "\n",
    "print('X_train: '+str(X_train.shape))\n",
    "print('y_train: '+str(y_train.shape))\n",
    "print('X_test: '+ str(X_test.shape))\n",
    "print('y_test: '+ str(y_test.shape))\n",
    "model=RandomForestClassifier(max_depth=10000, random_state=42)\n",
    "model.fit(X_train,y_train)\n",
    "\n",
    "y_pred=model.predict(X_test)\n",
    "print(confusion_matrix(y_test,y_pred))\n",
    "print(classification_report(y_test,y_pred, digits=3))\n",
    "patient_score(y_test,y_pred)\n",
    "from sklearn.model_selection import cross_val_score\n",
    "\n",
    "scores=cross_val_score(model, X_train, y_train, cv=5)\n",
    "print(\"%0.2f accuracy with a standard deviation of %0.2f\" % (scores.mean(), scores.std()))"
   ]
  },
  {
   "cell_type": "code",
   "execution_count": null,
   "id": "89d4feb1",
   "metadata": {},
   "outputs": [],
   "source": []
  }
 ],
 "metadata": {
  "kernelspec": {
   "display_name": "Python 3",
   "language": "python",
   "name": "python3"
  },
  "language_info": {
   "codemirror_mode": {
    "name": "ipython",
    "version": 3
   },
   "file_extension": ".py",
   "mimetype": "text/x-python",
   "name": "python",
   "nbconvert_exporter": "python",
   "pygments_lexer": "ipython3",
   "version": "3.9.3"
  }
 },
 "nbformat": 4,
 "nbformat_minor": 5
}
