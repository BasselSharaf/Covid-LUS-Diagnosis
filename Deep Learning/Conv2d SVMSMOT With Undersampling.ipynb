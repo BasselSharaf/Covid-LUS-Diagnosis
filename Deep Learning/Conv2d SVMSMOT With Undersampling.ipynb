{
 "cells": [
  {
   "cell_type": "code",
   "execution_count": 1,
   "id": "d4ae7b21",
   "metadata": {},
   "outputs": [],
   "source": [
    "%matplotlib inline"
   ]
  },
  {
   "cell_type": "code",
   "execution_count": 23,
   "id": "98f8aefe",
   "metadata": {},
   "outputs": [],
   "source": [
    "import cv2\n",
    "import os\n",
    "import math\n",
    "import sys\n",
    "import numpy as np\n",
    "import pandas as pd\n",
    "import matplotlib.pyplot as plt\n",
    "\n",
    "from PIL import Image\n",
    "from sklearn.model_selection import train_test_split\n",
    "from tensorflow.keras.models import load_model\n",
    "from sklearn import preprocessing\n",
    "from tensorflow.keras.models import Sequential\n",
    "from tensorflow.keras.layers import Dense, Conv2D, Flatten\n",
    "from tensorflow.keras.utils import to_categorical\n",
    "from tensorflow.keras.models import Sequential\n",
    "from tensorflow.keras.layers import Dense, Conv2D, Flatten,MaxPooling2D,Dropout\n",
    "from tensorflow.keras.preprocessing.image import ImageDataGenerator\n",
    "from tensorflow.keras.callbacks import (\n",
    "    EarlyStopping, ModelCheckpoint, ReduceLROnPlateau\n",
    ")\n",
    "from tensorflow.keras.optimizers import Adam,SGD\n",
    "from imblearn.over_sampling import SVMSMOTE\n",
    "from imblearn.under_sampling import RandomUnderSampler\n",
    "from imblearn.pipeline import Pipeline\n",
    "from collections import Counter"
   ]
  },
  {
   "cell_type": "code",
   "execution_count": 24,
   "id": "3adf23b9",
   "metadata": {},
   "outputs": [],
   "source": [
    "# plot diagnostic learning curves\n",
    "def summarize_diagnostics(history):\n",
    "    # plot loss\n",
    "    pyplot.subplot(211)\n",
    "    pyplot.title('Cross Entropy Loss')\n",
    "    pyplot.plot(history.history['loss'], color='blue', label='train')\n",
    "    pyplot.plot(history.history['val_loss'], color='orange', label='test')\n",
    "    # plot accuracy\n",
    "    pyplot.subplot(212)\n",
    "    pyplot.title('Classification Accuracy')\n",
    "    pyplot.plot(history.history['accuracy'], color='blue', label='train')\n",
    "    pyplot.plot(history.history['val_accuracy'], color='orange', label='test')\n",
    "    # save plot to file\n",
    "    filename = sys.argv[0].split('/')[-1]\n",
    "    pyplot.savefig('' + '_plot.png')\n",
    "    pyplot.close()\n",
    "\n",
    "# run the test harness for evaluating a model\n",
    "def run_test_harness():\n",
    "    # load dataset\n",
    "    trainX, trainY, testX, testY = load_dataset()\n",
    "    # prepare pixel data\n",
    "    trainX, testX = prep_pixels(trainX, testX)\n",
    "    # define model\n",
    "    model = define_model()\n",
    "    # fit model\n",
    "    history = model.fit(trainX, trainY, epochs=100, batch_size=64, validation_data=(testX, testY), verbose=0)\n",
    "    # evaluate model\n",
    "    _, acc = model.evaluate(testX, testY, verbose=0)\n",
    "    print('> %.3f' % (acc * 100.0))\n",
    "    # learning curves\n",
    "    summarize_diagnostics(history)"
   ]
  },
  {
   "cell_type": "code",
   "execution_count": 25,
   "id": "b6c5fff9",
   "metadata": {},
   "outputs": [],
   "source": [
    "IMAGE_WIDTH=256\n",
    "IMAGE_HEIGHT=256"
   ]
  },
  {
   "cell_type": "code",
   "execution_count": 26,
   "id": "23a362de",
   "metadata": {},
   "outputs": [
    {
     "name": "stdout",
     "output_type": "stream",
     "text": [
      "Counter({'regular': 280, 'pneumonia': 180, 'covid': 150})\n"
     ]
    }
   ],
   "source": [
    "#Load all patients \n",
    "my_data = pd.read_csv('../data/Five_Frames_Per_patient.csv')\n",
    "patients_data=pd.read_csv('../data/videos_data.csv')\n",
    "data_array = my_data.to_numpy()\n",
    "patients_array=patients_data[\"FileName\"].to_numpy()\n",
    "images_path = '../data/Five_Frames_Per_patient/'\n",
    "no_of_test_patients=math.floor(patients_array.size*0.2) \n",
    "images_data = []\n",
    "models = []\n",
    "\n",
    "df=my_data\n",
    "data_array=df.to_numpy()\n",
    "for i in data_array:\n",
    "    img = cv2.imread(images_path + i[0] + '.' + i[2])\n",
    "    img=cv2.cvtColor(img, cv2.COLOR_BGR2RGB)\n",
    "    img = cv2.resize(img, (IMAGE_WIDTH, IMAGE_HEIGHT))\n",
    "    img_2d = img.reshape(IMAGE_WIDTH ,IMAGE_HEIGHT,3)\n",
    "    images_data.append(img_2d)\n",
    "\n",
    "X=np.asarray(images_data)\n",
    "X=X/255.0\n",
    "y = np.asarray(my_data['Label'])\n",
    "print(Counter(y))"
   ]
  },
  {
   "cell_type": "code",
   "execution_count": 27,
   "id": "18a3f119",
   "metadata": {},
   "outputs": [],
   "source": [
    "testPatient_indexes= [1,2,15,16,21,22,\n",
    "                      33,34,42,43,52,53,63,\n",
    "                      92,95,96,99,101,102,105,110]"
   ]
  },
  {
   "cell_type": "code",
   "execution_count": 28,
   "id": "4d960910",
   "metadata": {},
   "outputs": [],
   "source": [
    "#getting frame indexes of each patient\n",
    "frames_index=[]\n",
    "for i in testPatient_indexes:\n",
    "  j=i*5\n",
    "  z=j+5\n",
    "  while j<z:\n",
    "    frames_index.append(j)\n",
    "    j+=1\n",
    "\n",
    "# Adding the frames to X_test\n",
    "X_test=np.take(X,frames_index,axis=0)\n",
    "y_test=np.take(y,frames_index,axis=0)\n",
    "# Removing the frames from X_train\n",
    "X_train=np.delete(X,frames_index,axis=0)\n",
    "y_train=np.delete(y,frames_index,axis=0)\n",
    "\n",
    "# Scale the pixels\n",
    "X_train=X_train/255.0\n",
    "X_test=X_test/255.0"
   ]
  },
  {
   "cell_type": "code",
   "execution_count": 29,
   "id": "4752071b",
   "metadata": {},
   "outputs": [
    {
     "name": "stdout",
     "output_type": "stream",
     "text": [
      "Counter({'covid': 240, 'pneumonia': 240, 'regular': 240})\n"
     ]
    }
   ],
   "source": [
    "#Applying SMOTE\n",
    "oversample = SVMSMOTE()\n",
    "under = RandomUnderSampler()\n",
    "steps = [('o', oversample), ('u', under)]\n",
    "pipeline = Pipeline(steps=steps)\n",
    "\n",
    "\n",
    "X_train=np.resize(X_train,(X_train.shape[0],196608))\n",
    "X_train,y_train=pipeline.fit_resample(X_train, y_train)\n",
    "X_train=np.resize(X_train,(X_train.shape[0],256,256,3))\n",
    "counter=Counter(y_train)\n",
    "print(counter)\n",
    "\n",
    "#Label encode classes to numbers\n",
    "#One-hot Encode y\n",
    "number = preprocessing.LabelEncoder()\n",
    "y_train=number.fit_transform(y_train)\n",
    "y_train=to_categorical(y_train,3)\n",
    "\n",
    "number2 = preprocessing.LabelEncoder()\n",
    "y_test=number2.fit_transform(y_test)\n",
    "y_test=to_categorical(y_test,3)"
   ]
  },
  {
   "cell_type": "code",
   "execution_count": 30,
   "id": "33a15d85",
   "metadata": {},
   "outputs": [
    {
     "name": "stdout",
     "output_type": "stream",
     "text": [
      "X_train: (720, 256, 256, 3)\n",
      "y_train: (720, 3)\n",
      "X_test: (105, 256, 256, 3)\n",
      "y_test: (105, 3)\n"
     ]
    }
   ],
   "source": [
    "print('X_train: '+str(X_train.shape))\n",
    "print('y_train: '+str(y_train.shape))\n",
    "print('X_test: '+ str(X_test.shape))\n",
    "print('y_test: '+ str(y_test.shape))"
   ]
  },
  {
   "cell_type": "code",
   "execution_count": 31,
   "id": "6164c2eb",
   "metadata": {},
   "outputs": [],
   "source": [
    "# initialize the training data augmentation object\n",
    "MODEL_PATH=os.path.join('', \"Conv2d-SVMSMOT with Undersampling\")\n",
    "\n",
    "trainAug = ImageDataGenerator(\n",
    "    rotation_range=10,\n",
    "    fill_mode='nearest',\n",
    "    horizontal_flip=True,\n",
    "    vertical_flip=True,\n",
    "    width_shift_range=0.1,\n",
    "    height_shift_range=0.1\n",
    ")\n",
    "\n",
    "mcp_save = ModelCheckpoint(\n",
    "    MODEL_PATH,\n",
    "    save_best_only=True,\n",
    "    monitor='val_accuracy',\n",
    "    mode='max',\n",
    "    verbose=1\n",
    ")"
   ]
  },
  {
   "cell_type": "code",
   "execution_count": 32,
   "id": "e7198b71",
   "metadata": {},
   "outputs": [],
   "source": [
    "BATCH_SIZE=16\n",
    "EPOCHS=20\n",
    "LR=1e-4\n",
    "opt = Adam(learning_rate=LR,decay=LR / 20)\n",
    "# Define callbacks\n",
    "earlyStopping = EarlyStopping(\n",
    "    monitor='loss',\n",
    "    patience=20,\n",
    "    verbose=1,\n",
    "    mode='min',\n",
    "    restore_best_weights=True\n",
    ")\n",
    "\n",
    "\n",
    "reduce_lr_loss = ReduceLROnPlateau(\n",
    "    monitor='val_loss',\n",
    "    factor=0.7,\n",
    "    patience=7,\n",
    "    verbose=1,\n",
    "    min_delta=1e-4,\n",
    "    mode='min'\n",
    ")"
   ]
  },
  {
   "cell_type": "code",
   "execution_count": 33,
   "id": "d98cc369",
   "metadata": {},
   "outputs": [],
   "source": [
    "drop=0.0\n",
    "kernel=(2,2)\n",
    "# Create model\n",
    "model = Sequential()\n",
    "\n",
    "model.add(Conv2D(16, kernel_size=kernel, activation='relu', \n",
    "                 kernel_initializer='he_uniform', padding='same', input_shape=(IMAGE_WIDTH, IMAGE_HEIGHT, 3)))\n",
    "\n",
    "model.add(Conv2D(16, kernel_size=kernel, activation='relu', kernel_initializer='he_uniform', padding='same'))\n",
    "model.add(MaxPooling2D((2, 2)))\n",
    "model.add(Dropout(drop))\n",
    "\n",
    "model.add(Conv2D(32, kernel_size=kernel, activation='relu', kernel_initializer='he_uniform', padding='same'))\n",
    "model.add(Conv2D(32, kernel_size=kernel, activation='relu', kernel_initializer='he_uniform', padding='same'))\n",
    "model.add(MaxPooling2D((2, 2)))\n",
    "model.add(Dropout(drop))\n",
    "\n",
    "model.add(Conv2D(64, kernel_size=kernel, activation='relu', kernel_initializer='he_uniform', padding='same'))\n",
    "model.add(Conv2D(64, kernel_size=kernel, activation='relu', kernel_initializer='he_uniform', padding='same'))\n",
    "model.add(MaxPooling2D((2, 2)))\n",
    "model.add(Dropout(drop))\n",
    "\n",
    "model.add(Conv2D(126, kernel_size=kernel, activation='relu', kernel_initializer='he_uniform', padding='same'))\n",
    "model.add(Conv2D(126, kernel_size=kernel, activation='relu', kernel_initializer='he_uniform', padding='same'))\n",
    "model.add(MaxPooling2D((2, 2)))\n",
    "model.add(Dropout(drop))\n",
    "\n",
    "model.add(Conv2D(256, kernel_size=kernel, activation='relu', kernel_initializer='he_uniform', padding='same'))\n",
    "model.add(Conv2D(256, kernel_size=kernel, activation='relu', kernel_initializer='he_uniform', padding='same'))\n",
    "model.add(MaxPooling2D((2, 2)))\n",
    "model.add(Dropout(drop))\n",
    "\n",
    "\n",
    "#Flatten results\n",
    "model.add(Flatten())\n",
    "\n",
    "#Hidden layers of 512 neurons\n",
    "model.add(Dense(256, activation='relu'))\n",
    "model.add(Dense(3, activation='softmax'))\n"
   ]
  },
  {
   "cell_type": "code",
   "execution_count": 34,
   "id": "cf01ec65",
   "metadata": {},
   "outputs": [],
   "source": [
    "model.compile(optimizer=opt, loss='categorical_crossentropy', metrics=['accuracy'])"
   ]
  },
  {
   "cell_type": "code",
   "execution_count": 35,
   "id": "6fe37205",
   "metadata": {
    "scrolled": true
   },
   "outputs": [
    {
     "name": "stdout",
     "output_type": "stream",
     "text": [
      "Epoch 1/20\n",
      "45/45 [==============================] - 12s 258ms/step - loss: 1.0961 - accuracy: 0.3542 - val_loss: 1.0922 - val_accuracy: 0.2857\n",
      "\n",
      "Epoch 00001: val_accuracy improved from -inf to 0.28571, saving model to Conv2d-SVMSMOT with Undersampling\n",
      "INFO:tensorflow:Assets written to: Conv2d-SVMSMOT with Undersampling\\assets\n",
      "Epoch 2/20\n",
      "45/45 [==============================] - 11s 250ms/step - loss: 1.0430 - accuracy: 0.4292 - val_loss: 0.9864 - val_accuracy: 0.4762\n",
      "\n",
      "Epoch 00002: val_accuracy improved from 0.28571 to 0.47619, saving model to Conv2d-SVMSMOT with Undersampling\n",
      "INFO:tensorflow:Assets written to: Conv2d-SVMSMOT with Undersampling\\assets\n",
      "Epoch 3/20\n",
      "45/45 [==============================] - 11s 249ms/step - loss: 0.9392 - accuracy: 0.5903 - val_loss: 0.8647 - val_accuracy: 0.6667\n",
      "\n",
      "Epoch 00003: val_accuracy improved from 0.47619 to 0.66667, saving model to Conv2d-SVMSMOT with Undersampling\n",
      "INFO:tensorflow:Assets written to: Conv2d-SVMSMOT with Undersampling\\assets\n",
      "Epoch 4/20\n",
      "45/45 [==============================] - 11s 250ms/step - loss: 0.8577 - accuracy: 0.6028 - val_loss: 0.7462 - val_accuracy: 0.6667\n",
      "\n",
      "Epoch 00004: val_accuracy did not improve from 0.66667\n",
      "Epoch 5/20\n",
      "45/45 [==============================] - 11s 249ms/step - loss: 0.7833 - accuracy: 0.6694 - val_loss: 0.7361 - val_accuracy: 0.7143\n",
      "\n",
      "Epoch 00005: val_accuracy improved from 0.66667 to 0.71429, saving model to Conv2d-SVMSMOT with Undersampling\n",
      "INFO:tensorflow:Assets written to: Conv2d-SVMSMOT with Undersampling\\assets\n",
      "Epoch 6/20\n",
      "45/45 [==============================] - 11s 249ms/step - loss: 0.7427 - accuracy: 0.6917 - val_loss: 0.5424 - val_accuracy: 0.8190\n",
      "\n",
      "Epoch 00006: val_accuracy improved from 0.71429 to 0.81905, saving model to Conv2d-SVMSMOT with Undersampling\n",
      "INFO:tensorflow:Assets written to: Conv2d-SVMSMOT with Undersampling\\assets\n",
      "Epoch 7/20\n",
      "45/45 [==============================] - 11s 249ms/step - loss: 0.7385 - accuracy: 0.6958 - val_loss: 0.6231 - val_accuracy: 0.8095\n",
      "\n",
      "Epoch 00007: val_accuracy did not improve from 0.81905\n",
      "Epoch 8/20\n",
      "45/45 [==============================] - 11s 249ms/step - loss: 0.6547 - accuracy: 0.7264 - val_loss: 0.4981 - val_accuracy: 0.8095\n",
      "\n",
      "Epoch 00008: val_accuracy did not improve from 0.81905\n",
      "Epoch 9/20\n",
      "45/45 [==============================] - 11s 250ms/step - loss: 0.6660 - accuracy: 0.7208 - val_loss: 0.5348 - val_accuracy: 0.8095\n",
      "\n",
      "Epoch 00009: val_accuracy did not improve from 0.81905\n",
      "Epoch 10/20\n",
      "45/45 [==============================] - 13s 281ms/step - loss: 0.5823 - accuracy: 0.7722 - val_loss: 0.4165 - val_accuracy: 0.8571\n",
      "\n",
      "Epoch 00010: val_accuracy improved from 0.81905 to 0.85714, saving model to Conv2d-SVMSMOT with Undersampling\n",
      "INFO:tensorflow:Assets written to: Conv2d-SVMSMOT with Undersampling\\assets\n",
      "Epoch 11/20\n",
      "45/45 [==============================] - 13s 278ms/step - loss: 0.5738 - accuracy: 0.7833 - val_loss: 0.4494 - val_accuracy: 0.8000\n",
      "\n",
      "Epoch 00011: val_accuracy did not improve from 0.85714\n",
      "Epoch 12/20\n",
      "45/45 [==============================] - 12s 260ms/step - loss: 0.6159 - accuracy: 0.7750 - val_loss: 0.4860 - val_accuracy: 0.8095\n",
      "\n",
      "Epoch 00012: val_accuracy did not improve from 0.85714\n",
      "Epoch 13/20\n",
      "45/45 [==============================] - 11s 249ms/step - loss: 0.5435 - accuracy: 0.7903 - val_loss: 0.3960 - val_accuracy: 0.8190\n",
      "\n",
      "Epoch 00013: val_accuracy did not improve from 0.85714\n",
      "Epoch 14/20\n",
      "45/45 [==============================] - 12s 255ms/step - loss: 0.5307 - accuracy: 0.7847 - val_loss: 0.4431 - val_accuracy: 0.8000\n",
      "\n",
      "Epoch 00014: val_accuracy did not improve from 0.85714\n",
      "Epoch 15/20\n",
      "45/45 [==============================] - 12s 264ms/step - loss: 0.5208 - accuracy: 0.7806 - val_loss: 0.4033 - val_accuracy: 0.8095\n",
      "\n",
      "Epoch 00015: val_accuracy did not improve from 0.85714\n",
      "Epoch 16/20\n",
      "45/45 [==============================] - 12s 255ms/step - loss: 0.5266 - accuracy: 0.7819 - val_loss: 0.4783 - val_accuracy: 0.8000\n",
      "\n",
      "Epoch 00016: val_accuracy did not improve from 0.85714\n",
      "Epoch 17/20\n",
      "45/45 [==============================] - 12s 274ms/step - loss: 0.4582 - accuracy: 0.8236 - val_loss: 0.4474 - val_accuracy: 0.7810\n",
      "\n",
      "Epoch 00017: val_accuracy did not improve from 0.85714\n",
      "Epoch 18/20\n",
      "45/45 [==============================] - 11s 249ms/step - loss: 0.4789 - accuracy: 0.8125 - val_loss: 0.3706 - val_accuracy: 0.8190\n",
      "\n",
      "Epoch 00018: val_accuracy did not improve from 0.85714\n",
      "Epoch 19/20\n",
      "45/45 [==============================] - 12s 272ms/step - loss: 0.4372 - accuracy: 0.8319 - val_loss: 0.3772 - val_accuracy: 0.8190\n",
      "\n",
      "Epoch 00019: val_accuracy did not improve from 0.85714\n",
      "Epoch 20/20\n",
      "45/45 [==============================] - 11s 252ms/step - loss: 0.4121 - accuracy: 0.8514 - val_loss: 0.5002 - val_accuracy: 0.7714\n",
      "\n",
      "Epoch 00020: val_accuracy did not improve from 0.85714\n"
     ]
    }
   ],
   "source": [
    "history=model.fit(\n",
    "    trainAug.flow(X_train, y_train, batch_size=BATCH_SIZE),\n",
    "    steps_per_epoch=len(X_train) // BATCH_SIZE,\n",
    "    validation_data=(X_test, y_test),\n",
    "    epochs=20,\n",
    "    callbacks=[earlyStopping, mcp_save, reduce_lr_loss]\n",
    ")"
   ]
  },
  {
   "cell_type": "code",
   "execution_count": 36,
   "id": "3bdcbf3d",
   "metadata": {},
   "outputs": [
    {
     "name": "stdout",
     "output_type": "stream",
     "text": [
      "Train: 0.881, Test: 0.771\n"
     ]
    },
    {
     "data": {
      "image/png": "[encoded data removed]",
      "text/plain": [
       "<Figure size 432x288 with 1 Axes>"
      ]
     },
     "metadata": {
      "needs_background": "light"
     },
     "output_type": "display_data"
    },
    {
     "data": {
      "image/png": "[encoded data removed]",
      "text/plain": [
       "<Figure size 432x288 with 1 Axes>"
      ]
     },
     "metadata": {
      "needs_background": "light"
     },
     "output_type": "display_data"
    }
   ],
   "source": [
    "# evaluate the model\n",
    "_, train_acc = model.evaluate(X_train, y_train, verbose=0)\n",
    "_, test_acc = model.evaluate(X_test, y_test, verbose=0)\n",
    "print('Train: %.3f, Test: %.3f' % (train_acc, test_acc))\n",
    "\n",
    "# summarize history for accuracy\n",
    "plt.plot(history.history['accuracy'])\n",
    "plt.plot(history.history['val_accuracy'])\n",
    "plt.title('model accuracy')\n",
    "plt.ylabel('accuracy')\n",
    "plt.xlabel('epoch')\n",
    "plt.legend(['train', 'test'], loc='upper left')\n",
    "plt.show()\n",
    "\n",
    "# summarize history for loss\n",
    "plt.plot(history.history['loss'])\n",
    "plt.plot(history.history['val_loss'])\n",
    "plt.title('model loss')\n",
    "plt.ylabel('loss')\n",
    "plt.xlabel('epoch')\n",
    "plt.legend(['train', 'test'],\n",
    "           loc='upper left')\n",
    "plt.show()"
   ]
  },
  {
   "cell_type": "code",
   "execution_count": 37,
   "id": "6a149022",
   "metadata": {},
   "outputs": [
    {
     "name": "stdout",
     "output_type": "stream",
     "text": [
      "              precision    recall  f1-score   support\n",
      "\n",
      "       Covid       0.83      0.83      0.83        30\n",
      "   Pneumonia       0.78      0.89      0.83        35\n",
      "     Healthy       0.77      0.68      0.72        40\n",
      "\n",
      "    accuracy                           0.79       105\n",
      "   macro avg       0.79      0.80      0.79       105\n",
      "weighted avg       0.79      0.79      0.79       105\n",
      "\n",
      "[[25  1  4]\n",
      " [ 0 31  4]\n",
      " [ 5  8 27]]\n"
     ]
    }
   ],
   "source": [
    "from sklearn.metrics import classification_report\n",
    "y_pred=(model.predict(X_test) > 0.5).astype(\"int32\")\n",
    "y_pred=[np.argmax(x) for x in y_pred]\n",
    "y_testLabeled=[np.argmax(x) for x in y_test]\n",
    "target_names = ['Covid', 'Pneumonia', 'Healthy']\n",
    "print(classification_report(y_testLabeled, y_pred,target_names=target_names))\n",
    "\n",
    "from sklearn.metrics import confusion_matrix\n",
    "print(confusion_matrix(y_testLabeled,y_pred))"
   ]
  },
  {
   "cell_type": "code",
   "execution_count": null,
   "id": "4ed369fa",
   "metadata": {},
   "outputs": [],
   "source": []
  }
 ],
 "metadata": {
  "kernelspec": {
   "display_name": "Python 3",
   "language": "python",
   "name": "python3"
  },
  "language_info": {
   "codemirror_mode": {
    "name": "ipython",
    "version": 3
   },
   "file_extension": ".py",
   "mimetype": "text/x-python",
   "name": "python",
   "nbconvert_exporter": "python",
   "pygments_lexer": "ipython3",
   "version": "3.9.3"
  }
 },
 "nbformat": 4,
 "nbformat_minor": 5
}
