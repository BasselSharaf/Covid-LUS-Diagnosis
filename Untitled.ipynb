{
 "cells": [
  {
   "cell_type": "code",
   "execution_count": 1,
   "id": "3537c2dd",
   "metadata": {},
   "outputs": [],
   "source": [
    "import cv2\n",
    "import os\n",
    "import math\n",
    "import sys\n",
    "import numpy as np\n",
    "import pandas as pd\n",
    "import matplotlib.pyplot as plt\n",
    "\n",
    "from PIL import Image\n",
    "from sklearn.metrics import confusion_matrix\n",
    "from sklearn.metrics import classification_report\n",
    "from sklearn.model_selection import train_test_split\n",
    "from tensorflow.keras.models import load_model\n",
    "from sklearn import preprocessing\n",
    "from tensorflow.keras.models import Sequential\n",
    "from tensorflow.keras.layers import Dense, Conv2D, Flatten\n",
    "from tensorflow.keras.utils import to_categorical\n",
    "from tensorflow.keras.models import Sequential\n",
    "from tensorflow.keras.layers import Dense, Conv2D, Flatten,MaxPooling2D,Dropout\n",
    "from sklearn.linear_model import LogisticRegression\n",
    "from tensorflow.keras.preprocessing.image import ImageDataGenerator\n",
    "from tensorflow.keras.callbacks import (\n",
    "    EarlyStopping, ModelCheckpoint, ReduceLROnPlateau\n",
    ")\n",
    "from sklearn.preprocessing import StandardScaler\n",
    "from sklearn.pipeline import make_pipeline\n",
    "from sklearn.svm import SVC\n",
    "from tensorflow.keras.optimizers import Adam,SGD\n",
    "from imblearn.over_sampling import SMOTE\n",
    "from collections import Counter\n",
    "from sklearn.ensemble import RandomForestClassifier\n",
    "from tensorflow.keras.models import load_model\n"
   ]
  },
  {
   "cell_type": "code",
   "execution_count": 2,
   "id": "04821d1a",
   "metadata": {},
   "outputs": [
    {
     "name": "stdout",
     "output_type": "stream",
     "text": [
      "Counter({'regular': 280, 'pneumonia': 180, 'covid': 150})\n"
     ]
    }
   ],
   "source": [
    "IMAGE_WIDTH=224\n",
    "IMAGE_HEIGHT=224\n",
    "#Load all patients \n",
    "my_data = pd.read_csv('../data/Five_Frames_Per_patient.csv')\n",
    "patients_data=pd.read_csv('../data/videos_data.csv')\n",
    "data_array = my_data.to_numpy()\n",
    "patients_array=patients_data[\"FileName\"].to_numpy()\n",
    "images_path = '../data/Five_Frames_Per_patient/'\n",
    "no_of_test_patients=math.floor(patients_array.size*0.2) \n",
    "images_data = []\n",
    "models = []\n",
    "\n",
    "df=my_data\n",
    "data_array=df.to_numpy()\n",
    "for i in data_array:\n",
    "    img = cv2.imread(images_path + i[0] + '.' + i[2], cv2.IMREAD_GRAYSCALE)\n",
    "    img=  cv2.equalizeHist(img)\n",
    "    img = cv2.resize(img, (IMAGE_WIDTH, IMAGE_HEIGHT))\n",
    "    img_2d = img.reshape(IMAGE_WIDTH ,IMAGE_HEIGHT,1)\n",
    "    images_data.append(img_2d)\n",
    "\n",
    "X=np.asarray(images_data)\n",
    "y = np.asarray(my_data['Label'])\n",
    "print(Counter(y))\n",
    "\n",
    "testPatient_indexes= [1,2,12,14,15,22,\n",
    "                      33,34,37,42,43,52,53,\n",
    "                      92,95,96,99,101,102,104,107,110,115,118]\n",
    "#getting frame indexes of each patient\n",
    "frames_index=[]\n",
    "for i in testPatient_indexes:\n",
    "  j=i*5\n",
    "  z=j+5\n",
    "  while j<z:\n",
    "    frames_index.append(j)\n",
    "    j+=1\n",
    "\n",
    "# Adding the frames to X_test\n",
    "X_test=np.take(X,frames_index,axis=0)\n",
    "y_test=np.take(y,frames_index,axis=0)\n",
    "# Removing the frames from X_train\n",
    "X_train=np.delete(X,frames_index,axis=0)\n",
    "y_train=np.delete(y,frames_index,axis=0)\n",
    "\n",
    "# Scale the pixels\n",
    "X_train=X_train/255.0\n",
    "X_test=X_test/255.0"
   ]
  },
  {
   "cell_type": "code",
   "execution_count": 3,
   "id": "d905c947",
   "metadata": {},
   "outputs": [],
   "source": [
    "model = load_model('Conv2d-Better', compile=False)"
   ]
  },
  {
   "cell_type": "code",
   "execution_count": 19,
   "id": "3511e360",
   "metadata": {},
   "outputs": [],
   "source": [
    "\n"
   ]
  },
  {
   "cell_type": "code",
   "execution_count": 25,
   "id": "2e445602",
   "metadata": {},
   "outputs": [],
   "source": [
    "\n"
   ]
  },
  {
   "cell_type": "code",
   "execution_count": 21,
   "id": "147d3532",
   "metadata": {},
   "outputs": [
    {
     "name": "stdout",
     "output_type": "stream",
     "text": [
      "(1, 224, 224, 1)\n"
     ]
    }
   ],
   "source": [
    "Xz=[]\n",
    "Xz.append(X_test[3])\n",
    "Xz=np.asarray(Xz)\n",
    "print(Xz.shape)"
   ]
  },
  {
   "cell_type": "code",
   "execution_count": 22,
   "id": "42f78c6f",
   "metadata": {},
   "outputs": [
    {
     "ename": "AttributeError",
     "evalue": "'Sequential' object has no attribute 'loss'",
     "output_type": "error",
     "traceback": [
      "\u001b[1;31m---------------------------------------------------------------------------\u001b[0m",
      "\u001b[1;31mAttributeError\u001b[0m                            Traceback (most recent call last)",
      "\u001b[1;32m<ipython-input-22-4c1537f7a984>\u001b[0m in \u001b[0;36m<module>\u001b[1;34m\u001b[0m\n\u001b[0;32m      1\u001b[0m \u001b[0mimages\u001b[0m\u001b[1;33m=\u001b[0m\u001b[1;33m[\u001b[0m\u001b[1;33m]\u001b[0m\u001b[1;33m\u001b[0m\u001b[1;33m\u001b[0m\u001b[0m\n\u001b[1;32m----> 2\u001b[1;33m \u001b[0mmodel\u001b[0m\u001b[1;33m.\u001b[0m\u001b[0mpredict\u001b[0m\u001b[1;33m(\u001b[0m\u001b[0mX_test\u001b[0m\u001b[1;33m)\u001b[0m\u001b[1;33m\u001b[0m\u001b[1;33m\u001b[0m\u001b[0m\n\u001b[0m\u001b[0;32m      3\u001b[0m \u001b[1;32mfor\u001b[0m \u001b[0mi\u001b[0m \u001b[1;32min\u001b[0m \u001b[0mX_test\u001b[0m\u001b[1;33m:\u001b[0m\u001b[1;33m\u001b[0m\u001b[1;33m\u001b[0m\u001b[0m\n\u001b[0;32m      4\u001b[0m     \u001b[0mXz\u001b[0m\u001b[1;33m=\u001b[0m\u001b[1;33m[\u001b[0m\u001b[1;33m]\u001b[0m\u001b[1;33m\u001b[0m\u001b[1;33m\u001b[0m\u001b[0m\n\u001b[0;32m      5\u001b[0m     \u001b[0mXz\u001b[0m\u001b[1;33m.\u001b[0m\u001b[0mappend\u001b[0m\u001b[1;33m(\u001b[0m\u001b[0mi\u001b[0m\u001b[1;33m)\u001b[0m\u001b[1;33m\u001b[0m\u001b[1;33m\u001b[0m\u001b[0m\n",
      "\u001b[1;32m~\\AppData\\Roaming\\Python\\Python39\\site-packages\\tensorflow\\python\\keras\\engine\\training_v1.py\u001b[0m in \u001b[0;36mpredict\u001b[1;34m(self, x, batch_size, verbose, steps, callbacks, max_queue_size, workers, use_multiprocessing)\u001b[0m\n\u001b[0;32m    986\u001b[0m \u001b[1;33m\u001b[0m\u001b[0m\n\u001b[0;32m    987\u001b[0m     \u001b[0mfunc\u001b[0m \u001b[1;33m=\u001b[0m \u001b[0mself\u001b[0m\u001b[1;33m.\u001b[0m\u001b[0m_select_training_loop\u001b[0m\u001b[1;33m(\u001b[0m\u001b[0mx\u001b[0m\u001b[1;33m)\u001b[0m\u001b[1;33m\u001b[0m\u001b[1;33m\u001b[0m\u001b[0m\n\u001b[1;32m--> 988\u001b[1;33m     return func.predict(\n\u001b[0m\u001b[0;32m    989\u001b[0m         \u001b[0mself\u001b[0m\u001b[1;33m,\u001b[0m\u001b[1;33m\u001b[0m\u001b[1;33m\u001b[0m\u001b[0m\n\u001b[0;32m    990\u001b[0m         \u001b[0mx\u001b[0m\u001b[1;33m=\u001b[0m\u001b[0mx\u001b[0m\u001b[1;33m,\u001b[0m\u001b[1;33m\u001b[0m\u001b[1;33m\u001b[0m\u001b[0m\n",
      "\u001b[1;32m~\\AppData\\Roaming\\Python\\Python39\\site-packages\\tensorflow\\python\\keras\\engine\\training_arrays_v1.py\u001b[0m in \u001b[0;36mpredict\u001b[1;34m(self, model, x, batch_size, verbose, steps, callbacks, **kwargs)\u001b[0m\n\u001b[0;32m    699\u001b[0m               **kwargs):\n\u001b[0;32m    700\u001b[0m     \u001b[0mbatch_size\u001b[0m \u001b[1;33m=\u001b[0m \u001b[0mmodel\u001b[0m\u001b[1;33m.\u001b[0m\u001b[0m_validate_or_infer_batch_size\u001b[0m\u001b[1;33m(\u001b[0m\u001b[0mbatch_size\u001b[0m\u001b[1;33m,\u001b[0m \u001b[0msteps\u001b[0m\u001b[1;33m,\u001b[0m \u001b[0mx\u001b[0m\u001b[1;33m)\u001b[0m\u001b[1;33m\u001b[0m\u001b[1;33m\u001b[0m\u001b[0m\n\u001b[1;32m--> 701\u001b[1;33m     x, _, _ = model._standardize_user_data(\n\u001b[0m\u001b[0;32m    702\u001b[0m         x, check_steps=True, steps_name='steps', steps=steps)\n\u001b[0;32m    703\u001b[0m     return predict_loop(\n",
      "\u001b[1;32m~\\AppData\\Roaming\\Python\\Python39\\site-packages\\tensorflow\\python\\keras\\engine\\training_v1.py\u001b[0m in \u001b[0;36m_standardize_user_data\u001b[1;34m(self, x, y, sample_weight, class_weight, batch_size, check_steps, steps_name, steps, validation_split, shuffle, extract_tensors_from_dataset)\u001b[0m\n\u001b[0;32m   2328\u001b[0m     \u001b[0mis_compile_called\u001b[0m \u001b[1;33m=\u001b[0m \u001b[1;32mFalse\u001b[0m\u001b[1;33m\u001b[0m\u001b[1;33m\u001b[0m\u001b[0m\n\u001b[0;32m   2329\u001b[0m     \u001b[1;32mif\u001b[0m \u001b[1;32mnot\u001b[0m \u001b[0mself\u001b[0m\u001b[1;33m.\u001b[0m\u001b[0m_is_compiled\u001b[0m \u001b[1;32mand\u001b[0m \u001b[0mself\u001b[0m\u001b[1;33m.\u001b[0m\u001b[0moptimizer\u001b[0m\u001b[1;33m:\u001b[0m\u001b[1;33m\u001b[0m\u001b[1;33m\u001b[0m\u001b[0m\n\u001b[1;32m-> 2330\u001b[1;33m       \u001b[0mself\u001b[0m\u001b[1;33m.\u001b[0m\u001b[0m_compile_from_inputs\u001b[0m\u001b[1;33m(\u001b[0m\u001b[0mall_inputs\u001b[0m\u001b[1;33m,\u001b[0m \u001b[0my_input\u001b[0m\u001b[1;33m,\u001b[0m \u001b[0mx\u001b[0m\u001b[1;33m,\u001b[0m \u001b[0my\u001b[0m\u001b[1;33m)\u001b[0m\u001b[1;33m\u001b[0m\u001b[1;33m\u001b[0m\u001b[0m\n\u001b[0m\u001b[0;32m   2331\u001b[0m       \u001b[0mis_compile_called\u001b[0m \u001b[1;33m=\u001b[0m \u001b[1;32mTrue\u001b[0m\u001b[1;33m\u001b[0m\u001b[1;33m\u001b[0m\u001b[0m\n\u001b[0;32m   2332\u001b[0m \u001b[1;33m\u001b[0m\u001b[0m\n",
      "\u001b[1;32m~\\AppData\\Roaming\\Python\\Python39\\site-packages\\tensorflow\\python\\keras\\engine\\training_v1.py\u001b[0m in \u001b[0;36m_compile_from_inputs\u001b[1;34m(self, all_inputs, target, orig_inputs, orig_target)\u001b[0m\n\u001b[0;32m   2580\u001b[0m     self.compile(\n\u001b[0;32m   2581\u001b[0m         \u001b[0moptimizer\u001b[0m\u001b[1;33m=\u001b[0m\u001b[0mself\u001b[0m\u001b[1;33m.\u001b[0m\u001b[0moptimizer\u001b[0m\u001b[1;33m,\u001b[0m\u001b[1;33m\u001b[0m\u001b[1;33m\u001b[0m\u001b[0m\n\u001b[1;32m-> 2582\u001b[1;33m         \u001b[0mloss\u001b[0m\u001b[1;33m=\u001b[0m\u001b[0mself\u001b[0m\u001b[1;33m.\u001b[0m\u001b[0mloss\u001b[0m\u001b[1;33m,\u001b[0m\u001b[1;33m\u001b[0m\u001b[1;33m\u001b[0m\u001b[0m\n\u001b[0m\u001b[0;32m   2583\u001b[0m         \u001b[0mmetrics\u001b[0m\u001b[1;33m=\u001b[0m\u001b[0mself\u001b[0m\u001b[1;33m.\u001b[0m\u001b[0m_compile_metrics\u001b[0m\u001b[1;33m,\u001b[0m\u001b[1;33m\u001b[0m\u001b[1;33m\u001b[0m\u001b[0m\n\u001b[0;32m   2584\u001b[0m         \u001b[0mweighted_metrics\u001b[0m\u001b[1;33m=\u001b[0m\u001b[0mself\u001b[0m\u001b[1;33m.\u001b[0m\u001b[0m_compile_weighted_metrics\u001b[0m\u001b[1;33m,\u001b[0m\u001b[1;33m\u001b[0m\u001b[1;33m\u001b[0m\u001b[0m\n",
      "\u001b[1;31mAttributeError\u001b[0m: 'Sequential' object has no attribute 'loss'"
     ]
    }
   ],
   "source": []
  },
  {
   "cell_type": "code",
   "execution_count": null,
   "id": "a3d05c96",
   "metadata": {},
   "outputs": [],
   "source": [
    "for img in images:\n",
    "    plt.imshow(img)"
   ]
  },
  {
   "cell_type": "code",
   "execution_count": 7,
   "id": "2064f1be",
   "metadata": {},
   "outputs": [
    {
     "data": {
      "text/plain": [
       "array([[2.84811288e-01, 2.37023622e-01, 4.78165090e-01],\n",
       "       [1.47034198e-01, 2.22877860e-01, 6.30087972e-01],\n",
       "       [9.09405887e-01, 3.65212001e-03, 8.69420543e-02],\n",
       "       [1.39615729e-01, 3.85041177e-01, 4.75343049e-01],\n",
       "       [8.19689393e-01, 1.34898061e-02, 1.66820839e-01],\n",
       "       [5.40471971e-01, 3.01037997e-01, 1.58490032e-01],\n",
       "       [7.63376892e-01, 3.33507620e-02, 2.03272402e-01],\n",
       "       [5.20158350e-01, 3.08181226e-01, 1.71660379e-01],\n",
       "       [6.56154990e-01, 5.08136824e-02, 2.93031335e-01],\n",
       "       [8.96358609e-01, 7.76648596e-02, 2.59764791e-02],\n",
       "       [4.64321971e-01, 2.59217352e-01, 2.76460677e-01],\n",
       "       [9.36282098e-01, 5.18623777e-02, 1.18555846e-02],\n",
       "       [9.94066954e-01, 4.69142292e-03, 1.24165905e-03],\n",
       "       [9.99072313e-01, 8.88436974e-04, 3.91845715e-05],\n",
       "       [9.95594203e-01, 4.25227173e-03, 1.53591245e-04],\n",
       "       [9.89677668e-01, 2.90149450e-03, 7.42091937e-03],\n",
       "       [9.91616070e-01, 1.00459543e-03, 7.37942336e-03],\n",
       "       [9.76921380e-01, 1.92996755e-03, 2.11487152e-02],\n",
       "       [9.91016030e-01, 1.35942874e-03, 7.62455119e-03],\n",
       "       [9.80394900e-01, 2.24850466e-03, 1.73566230e-02],\n",
       "       [9.83054101e-01, 4.76392033e-03, 1.21819079e-02],\n",
       "       [9.92668211e-01, 2.40445975e-03, 4.92741447e-03],\n",
       "       [9.90186930e-01, 3.34944902e-03, 6.46360265e-03],\n",
       "       [9.86752510e-01, 3.88585217e-03, 9.36161820e-03],\n",
       "       [9.86857653e-01, 4.82442789e-03, 8.31789244e-03],\n",
       "       [4.63256091e-01, 3.80005062e-01, 1.56738892e-01],\n",
       "       [3.31233233e-01, 6.24700367e-01, 4.40663025e-02],\n",
       "       [6.28186584e-01, 1.55593544e-01, 2.16219857e-01],\n",
       "       [6.77318752e-01, 1.34654880e-01, 1.88026309e-01],\n",
       "       [4.71511424e-01, 3.26005310e-01, 2.02483311e-01],\n",
       "       [2.21021264e-03, 9.85594094e-01, 1.21957045e-02],\n",
       "       [2.45384639e-03, 9.85583663e-01, 1.19625991e-02],\n",
       "       [1.27031596e-03, 9.86469805e-01, 1.22598503e-02],\n",
       "       [7.26907747e-04, 9.93830919e-01, 5.44212013e-03],\n",
       "       [5.47820819e-04, 9.93167698e-01, 6.28448185e-03],\n",
       "       [2.41403950e-06, 9.93057370e-01, 6.94023538e-03],\n",
       "       [4.50233847e-06, 9.92779672e-01, 7.21577508e-03],\n",
       "       [2.02032584e-06, 9.95779872e-01, 4.21807822e-03],\n",
       "       [2.53763960e-06, 9.98452544e-01, 1.54492981e-03],\n",
       "       [3.04556033e-06, 9.99632359e-01, 3.64543434e-04],\n",
       "       [7.59243872e-03, 9.51822221e-01, 4.05853279e-02],\n",
       "       [2.63049849e-03, 9.56458330e-01, 4.09111604e-02],\n",
       "       [3.67974317e-05, 9.98955846e-01, 1.00739521e-03],\n",
       "       [8.72751389e-06, 9.95353699e-01, 4.63747606e-03],\n",
       "       [1.57402974e-05, 9.97260690e-01, 2.72355089e-03],\n",
       "       [2.32213661e-01, 7.05284417e-01, 6.25018999e-02],\n",
       "       [6.60014674e-02, 8.62365365e-01, 7.16332570e-02],\n",
       "       [9.93184596e-02, 5.84471643e-01, 3.16209882e-01],\n",
       "       [8.25974643e-02, 8.81774962e-01, 3.56275998e-02],\n",
       "       [8.71091262e-02, 8.80145311e-01, 3.27455327e-02],\n",
       "       [1.22334763e-01, 8.11812103e-01, 6.58531785e-02],\n",
       "       [7.99054578e-02, 8.43383670e-01, 7.67108500e-02],\n",
       "       [1.15183018e-01, 7.86430955e-01, 9.83861014e-02],\n",
       "       [1.99685246e-01, 6.58106267e-01, 1.42208487e-01],\n",
       "       [1.24801889e-01, 7.73374081e-01, 1.01823978e-01],\n",
       "       [7.67386556e-02, 9.06787455e-01, 1.64739192e-02],\n",
       "       [4.53030551e-03, 9.77064312e-01, 1.84053592e-02],\n",
       "       [1.13048162e-02, 9.48480725e-01, 4.02144305e-02],\n",
       "       [2.12746207e-03, 9.83265162e-01, 1.46074072e-02],\n",
       "       [1.96560705e-03, 9.83733773e-01, 1.43006472e-02],\n",
       "       [6.42453600e-03, 9.67388630e-01, 2.61868425e-02],\n",
       "       [1.60406828e-02, 8.76046360e-01, 1.07913010e-01],\n",
       "       [4.41295654e-02, 6.96643054e-01, 2.59227365e-01],\n",
       "       [1.35960588e-02, 9.08240557e-01, 7.81633183e-02],\n",
       "       [9.97957122e-03, 9.56440449e-01, 3.35800759e-02],\n",
       "       [1.61290320e-03, 1.06824804e-02, 9.87704635e-01],\n",
       "       [3.21441144e-03, 1.74923427e-02, 9.79293227e-01],\n",
       "       [2.88261380e-03, 2.97307558e-02, 9.67386603e-01],\n",
       "       [5.00627188e-03, 1.31704127e-02, 9.81823325e-01],\n",
       "       [4.12647240e-03, 4.35181037e-02, 9.52355504e-01],\n",
       "       [5.79847365e-05, 1.14939327e-03, 9.98792648e-01],\n",
       "       [9.30095193e-05, 2.46752221e-02, 9.75231767e-01],\n",
       "       [1.78997323e-06, 3.75447934e-03, 9.96243715e-01],\n",
       "       [5.30542138e-07, 6.83847675e-03, 9.93160963e-01],\n",
       "       [8.88970317e-05, 9.44959819e-02, 9.05415177e-01],\n",
       "       [5.32498537e-03, 9.73966300e-01, 2.07087770e-02],\n",
       "       [2.76719290e-03, 8.86728823e-01, 1.10503964e-01],\n",
       "       [1.08713051e-03, 9.72141743e-01, 2.67711841e-02],\n",
       "       [1.74849795e-03, 9.65020895e-01, 3.32305841e-02],\n",
       "       [1.40435714e-03, 9.45472360e-01, 5.31232990e-02],\n",
       "       [3.45400549e-05, 1.42117366e-04, 9.99823391e-01],\n",
       "       [4.93316657e-05, 8.76155915e-04, 9.99074459e-01],\n",
       "       [2.34385207e-03, 1.11845799e-03, 9.96537685e-01],\n",
       "       [8.50114599e-03, 1.69474131e-03, 9.89804149e-01],\n",
       "       [7.65861524e-03, 1.12156058e-02, 9.81125832e-01],\n",
       "       [1.05182070e-03, 2.52916856e-04, 9.98695314e-01],\n",
       "       [8.35038663e-04, 3.06662288e-04, 9.98858333e-01],\n",
       "       [1.43428240e-03, 2.72864039e-04, 9.98292863e-01],\n",
       "       [2.62167677e-03, 4.94056148e-04, 9.96884286e-01],\n",
       "       [3.98166711e-03, 2.11778469e-03, 9.93900537e-01],\n",
       "       [2.87201791e-03, 3.62905266e-04, 9.96765018e-01],\n",
       "       [1.94106461e-03, 4.55023372e-04, 9.97603953e-01],\n",
       "       [1.11867301e-03, 2.47267511e-04, 9.98634040e-01],\n",
       "       [1.31887570e-03, 2.04825745e-04, 9.98476326e-01],\n",
       "       [1.30285893e-03, 2.10018348e-04, 9.98487115e-01],\n",
       "       [3.01122479e-03, 2.16959178e-01, 7.80029595e-01],\n",
       "       [3.38562182e-04, 5.45158563e-03, 9.94209886e-01],\n",
       "       [1.34186863e-04, 4.57052112e-04, 9.99408722e-01],\n",
       "       [3.21034022e-05, 3.24649061e-03, 9.96721447e-01],\n",
       "       [1.77402340e-03, 5.41873313e-02, 9.44038570e-01],\n",
       "       [1.72281906e-03, 8.55466060e-05, 9.98191655e-01],\n",
       "       [2.65651336e-03, 1.63313322e-04, 9.97180223e-01],\n",
       "       [5.48420567e-03, 1.02522121e-04, 9.94413316e-01],\n",
       "       [4.48627118e-03, 1.07773645e-04, 9.95405912e-01],\n",
       "       [3.30379442e-03, 2.41412286e-04, 9.96454835e-01],\n",
       "       [2.45076194e-01, 1.56408583e-03, 7.53359735e-01],\n",
       "       [4.89950329e-02, 3.53694835e-04, 9.50651288e-01],\n",
       "       [1.33365570e-02, 3.42872227e-04, 9.86320555e-01],\n",
       "       [1.72823900e-03, 1.68585044e-04, 9.98103142e-01],\n",
       "       [7.08444568e-04, 7.02537291e-05, 9.99221325e-01],\n",
       "       [1.86783366e-03, 1.11449917e-03, 9.97017741e-01],\n",
       "       [1.36699330e-03, 2.71375454e-03, 9.95919287e-01],\n",
       "       [5.86727925e-04, 5.11274149e-04, 9.98901963e-01],\n",
       "       [3.41989857e-04, 5.46432799e-04, 9.99111593e-01],\n",
       "       [3.61330487e-04, 8.04475858e-04, 9.98834193e-01],\n",
       "       [5.75042213e-05, 9.57118929e-04, 9.98985350e-01],\n",
       "       [4.05821374e-05, 7.45866564e-04, 9.99213576e-01],\n",
       "       [7.53913555e-05, 9.05572844e-04, 9.99019027e-01],\n",
       "       [1.12908041e-04, 1.94213085e-03, 9.97945011e-01],\n",
       "       [1.94422304e-04, 3.52661870e-03, 9.96278942e-01]], dtype=float32)"
      ]
     },
     "execution_count": 7,
     "metadata": {},
     "output_type": "execute_result"
    }
   ],
   "source": [
    "model = load_model('Conv2d-Better', compile=False)\n",
    "model.predict(X_test)"
   ]
  },
  {
   "cell_type": "code",
   "execution_count": null,
   "id": "7a938cfb",
   "metadata": {},
   "outputs": [],
   "source": [
    "c=eli5.show_prediction(model, np.asarray([X_test[0]])"
   ]
  },
  {
   "cell_type": "code",
   "execution_count": null,
   "id": "e2b9a183",
   "metadata": {},
   "outputs": [],
   "source": [
    "import eli5\n",
    "from tensorflow import compat\n",
    "compat.v1.disable_eager_execution()\n",
    "images=[]\n",
    "for i in X_test:\n",
    "    Xz=[]\n",
    "    Xz.append(i)\n",
    "    Xz=np.asarray(Xz)\n",
    "    images.append(eli5.show_prediction(model, Xz))"
   ]
  },
  {
   "cell_type": "code",
   "execution_count": null,
   "id": "7a635568",
   "metadata": {},
   "outputs": [],
   "source": []
  }
 ],
 "metadata": {
  "kernelspec": {
   "display_name": "Python 3",
   "language": "python",
   "name": "python3"
  },
  "language_info": {
   "codemirror_mode": {
    "name": "ipython",
    "version": 3
   },
   "file_extension": ".py",
   "mimetype": "text/x-python",
   "name": "python",
   "nbconvert_exporter": "python",
   "pygments_lexer": "ipython3",
   "version": "3.9.3"
  }
 },
 "nbformat": 4,
 "nbformat_minor": 5
}
