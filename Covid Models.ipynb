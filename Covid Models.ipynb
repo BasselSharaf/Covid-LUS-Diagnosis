{
 "cells": [
  {
   "cell_type": "code",
   "execution_count": 1,
   "id": "professional-period",
   "metadata": {},
   "outputs": [],
   "source": [
    "import numpy as np\n",
    "import pandas as pd\n",
    "from matplotlib import pyplot\n",
    "from PIL import Image\n",
    "import cv2"
   ]
  },
  {
   "cell_type": "code",
   "execution_count": 23,
   "id": "6713b536",
   "metadata": {},
   "outputs": [],
   "source": [
    "#Reading CSV file data\n",
    "my_data=pd.read_csv('data/convex_image_data.csv')"
   ]
  },
  {
   "cell_type": "code",
   "execution_count": 24,
   "id": "0739883f",
   "metadata": {},
   "outputs": [
    {
     "data": {
      "text/html": [
       "<div>\n",
       "<style scoped>\n",
       "    .dataframe tbody tr th:only-of-type {\n",
       "        vertical-align: middle;\n",
       "    }\n",
       "\n",
       "    .dataframe tbody tr th {\n",
       "        vertical-align: top;\n",
       "    }\n",
       "\n",
       "    .dataframe thead th {\n",
       "        text-align: right;\n",
       "    }\n",
       "</style>\n",
       "<table border=\"1\" class=\"dataframe\">\n",
       "  <thead>\n",
       "    <tr style=\"text-align: right;\">\n",
       "      <th></th>\n",
       "      <th>Filename</th>\n",
       "      <th>Label</th>\n",
       "      <th>Format</th>\n",
       "    </tr>\n",
       "  </thead>\n",
       "  <tbody>\n",
       "    <tr>\n",
       "      <th>0</th>\n",
       "      <td>Cov_Oliviera_2020_Fig5A</td>\n",
       "      <td>covid</td>\n",
       "      <td>jpg</td>\n",
       "    </tr>\n",
       "    <tr>\n",
       "      <th>1</th>\n",
       "      <td>Cov_Oliviera_2020_Fig5A</td>\n",
       "      <td>covid</td>\n",
       "      <td>jpg</td>\n",
       "    </tr>\n",
       "    <tr>\n",
       "      <th>2</th>\n",
       "      <td>Cov_Oliviera_2020_Fig15A</td>\n",
       "      <td>covid</td>\n",
       "      <td>jpg</td>\n",
       "    </tr>\n",
       "    <tr>\n",
       "      <th>3</th>\n",
       "      <td>Cov_severe_acutemedicine</td>\n",
       "      <td>covid</td>\n",
       "      <td>png</td>\n",
       "    </tr>\n",
       "    <tr>\n",
       "      <th>4</th>\n",
       "      <td>Cov_unsmooth_pleuralline_prelim_study_SSRN_paper2</td>\n",
       "      <td>covid</td>\n",
       "      <td>png</td>\n",
       "    </tr>\n",
       "  </tbody>\n",
       "</table>\n",
       "</div>"
      ],
      "text/plain": [
       "                                            Filename  Label Format\n",
       "0                            Cov_Oliviera_2020_Fig5A  covid    jpg\n",
       "1                            Cov_Oliviera_2020_Fig5A  covid    jpg\n",
       "2                           Cov_Oliviera_2020_Fig15A  covid    jpg\n",
       "3                           Cov_severe_acutemedicine  covid    png\n",
       "4  Cov_unsmooth_pleuralline_prelim_study_SSRN_paper2  covid    png"
      ]
     },
     "execution_count": 24,
     "metadata": {},
     "output_type": "execute_result"
    }
   ],
   "source": [
    "my_data.head()"
   ]
  },
  {
   "cell_type": "code",
   "execution_count": 25,
   "id": "4adbe07b",
   "metadata": {},
   "outputs": [],
   "source": [
    "#Setting path for our convex image dataset\n",
    "images_path='convex/'"
   ]
  },
  {
   "cell_type": "code",
   "execution_count": 26,
   "id": "f5679268",
   "metadata": {},
   "outputs": [],
   "source": [
    "#Converting our data into a numpy array to be able to access it more freely\n",
    "data_array=my_data.to_numpy()"
   ]
  },
  {
   "cell_type": "markdown",
   "id": "cc81aa1b",
   "metadata": {},
   "source": [
    "# Image preProcessing"
   ]
  },
  {
   "cell_type": "code",
   "execution_count": 27,
   "id": "c076ccf5",
   "metadata": {},
   "outputs": [],
   "source": [
    "#Increasing Images contrast- resizing images to 224x224 - Incrasing Image contrast\n",
    "images_data=[]\n",
    "for i in data_array:\n",
    "    img = cv2.imread(images_path+i[0]+'.'+i[2], cv2.IMREAD_GRAYSCALE)\n",
    "    img=cv2.equalizeHist(img)\n",
    "    img=cv2.resize(img, (224,224), interpolation = cv2.INTER_AREA)\n",
    "    img_1d=img.reshape(224*224)\n",
    "    images_data.append(img_1d)"
   ]
  },
  {
   "cell_type": "code",
   "execution_count": 28,
   "id": "eb63ce70",
   "metadata": {},
   "outputs": [
    {
     "data": {
      "text/plain": [
       "[array([10, 10, 10, ..., 14, 15, 15], dtype=uint8),\n",
       " array([10, 10, 10, ..., 14, 15, 15], dtype=uint8),\n",
       " array([27, 27, 27, ..., 27, 27, 27], dtype=uint8),\n",
       " array([4, 5, 5, ..., 0, 0, 0], dtype=uint8),\n",
       " array([72, 72, 72, ..., 72, 72, 72], dtype=uint8),\n",
       " array([0, 0, 0, ..., 1, 2, 4], dtype=uint8),\n",
       " array([ 0,  0,  0, ..., 14, 13, 16], dtype=uint8),\n",
       " array([  0,   0,   0, ..., 152, 153, 158], dtype=uint8),\n",
       " array([  0,   0,   0, ..., 136, 159, 166], dtype=uint8),\n",
       " array([  0,   0,   0, ..., 126, 124, 117], dtype=uint8),\n",
       " array([50, 50, 50, ..., 50, 50, 50], dtype=uint8),\n",
       " array([ 0,  0,  0, ..., 54, 50, 46], dtype=uint8),\n",
       " array([ 0,  0,  0, ..., 68, 67, 67], dtype=uint8),\n",
       " array([26, 26, 26, ..., 26, 26, 26], dtype=uint8),\n",
       " array([0, 0, 0, ..., 2, 4, 5], dtype=uint8),\n",
       " array([0, 0, 0, ..., 0, 0, 0], dtype=uint8),\n",
       " array([0, 0, 0, ..., 0, 0, 0], dtype=uint8),\n",
       " array([0, 0, 0, ..., 0, 0, 0], dtype=uint8),\n",
       " array([0, 0, 0, ..., 0, 0, 0], dtype=uint8),\n",
       " array([0, 0, 0, ..., 0, 0, 0], dtype=uint8),\n",
       " array([ 0,  0,  0, ..., 30, 40, 47], dtype=uint8),\n",
       " array([0, 0, 0, ..., 0, 0, 0], dtype=uint8),\n",
       " array([0, 0, 0, ..., 0, 0, 0], dtype=uint8),\n",
       " array([0, 0, 0, ..., 0, 0, 0], dtype=uint8),\n",
       " array([0, 0, 0, ..., 0, 0, 0], dtype=uint8),\n",
       " array([0, 0, 0, ..., 0, 0, 0], dtype=uint8),\n",
       " array([0, 0, 0, ..., 5, 6, 5], dtype=uint8),\n",
       " array([0, 0, 0, ..., 2, 3, 4], dtype=uint8),\n",
       " array([0, 0, 0, ..., 5, 6, 7], dtype=uint8)]"
      ]
     },
     "execution_count": 28,
     "metadata": {},
     "output_type": "execute_result"
    }
   ],
   "source": [
    "images_data"
   ]
  },
  {
   "cell_type": "markdown",
   "id": "a8e98f11",
   "metadata": {},
   "source": [
    "### Initializing our X and y"
   ]
  },
  {
   "cell_type": "code",
   "execution_count": 44,
   "id": "546c8d4c",
   "metadata": {},
   "outputs": [],
   "source": [
    "#Initializing our X and y for our model\n",
    "X=np.asarray(images_data)\n",
    "y=np.asarray(my_data['Label'])"
   ]
  },
  {
   "cell_type": "code",
   "execution_count": 45,
   "id": "27ed5ff4",
   "metadata": {},
   "outputs": [
    {
     "data": {
      "text/plain": [
       "(29, 50176)"
      ]
     },
     "execution_count": 45,
     "metadata": {},
     "output_type": "execute_result"
    }
   ],
   "source": [
    "X.shape"
   ]
  },
  {
   "cell_type": "code",
   "execution_count": 46,
   "id": "a88b50bb",
   "metadata": {},
   "outputs": [
    {
     "data": {
      "text/plain": [
       "(29,)"
      ]
     },
     "execution_count": 46,
     "metadata": {},
     "output_type": "execute_result"
    }
   ],
   "source": [
    "y.shape"
   ]
  },
  {
   "cell_type": "code",
   "execution_count": 32,
   "id": "b85c3a51",
   "metadata": {},
   "outputs": [],
   "source": [
    "# Splitting our set to Train and test  80 20\n",
    "from sklearn.model_selection import train_test_split\n",
    "X_train, X_test, y_train, y_test = train_test_split(X, y, test_size=0.2, random_state=42)"
   ]
  },
  {
   "cell_type": "code",
   "execution_count": 47,
   "id": "5483a873",
   "metadata": {},
   "outputs": [
    {
     "data": {
      "text/plain": [
       "(23, 50176)"
      ]
     },
     "execution_count": 47,
     "metadata": {},
     "output_type": "execute_result"
    }
   ],
   "source": [
    "X_train.shape"
   ]
  },
  {
   "cell_type": "code",
   "execution_count": 48,
   "id": "a146bfd1",
   "metadata": {},
   "outputs": [],
   "source": [
    "y_train_covid = (y_train=='covid')\n",
    "y_test_covid = (y_test=='covid')"
   ]
  },
  {
   "cell_type": "markdown",
   "id": "0bacff03",
   "metadata": {},
   "source": [
    "# SGD Model"
   ]
  },
  {
   "cell_type": "code",
   "execution_count": 49,
   "id": "7ee0d98c",
   "metadata": {},
   "outputs": [],
   "source": [
    "from sklearn.linear_model import SGDClassifier\n",
    "from sklearn.model_selection import cross_validate\n",
    "from sklearn.model_selection import cross_val_predict\n",
    "from sklearn.metrics import confusion_matrix \n",
    "from sklearn.metrics import f1_score\n",
    "from sklearn import metrics"
   ]
  },
  {
   "cell_type": "code",
   "execution_count": 50,
   "id": "97c9220d",
   "metadata": {},
   "outputs": [
    {
     "data": {
      "text/plain": [
       "SGDClassifier(random_state=42)"
      ]
     },
     "execution_count": 50,
     "metadata": {},
     "output_type": "execute_result"
    }
   ],
   "source": [
    "sgd_clf=SGDClassifier(random_state=42)\n",
    "sgd_clf.fit( X_train, y_train_covid)"
   ]
  },
  {
   "cell_type": "code",
   "execution_count": 57,
   "id": "a027b0b9",
   "metadata": {},
   "outputs": [
    {
     "data": {
      "text/plain": [
       "{'fit_time': array([0.02097082, 0.02792454, 0.01533914, 0.01994777]),\n",
       " 'score_time': array([0.00099754, 0.00213909, 0.00099683, 0.00199318]),\n",
       " 'test_score': array([0.66666667, 0.83333333, 0.66666667, 0.8       ])}"
      ]
     },
     "execution_count": 57,
     "metadata": {},
     "output_type": "execute_result"
    }
   ],
   "source": [
    "#Cross validation\n",
    "cross_validate(sgd_clf,X_train,y_train_covid,cv=4,scoring=\"accuracy\")"
   ]
  },
  {
   "cell_type": "code",
   "execution_count": 58,
   "id": "0bdc8319",
   "metadata": {},
   "outputs": [],
   "source": [
    "#getting our y_predict for our confusion matrix\n",
    "y_train_predict=cross_val_predict(sgd_clf,X_train,y_train_covid,cv=5)"
   ]
  },
  {
   "cell_type": "code",
   "execution_count": 60,
   "id": "2e1c2209",
   "metadata": {},
   "outputs": [
    {
     "data": {
      "text/plain": [
       "array([[18,  0],\n",
       "       [ 2,  3]], dtype=int64)"
      ]
     },
     "execution_count": 60,
     "metadata": {},
     "output_type": "execute_result"
    }
   ],
   "source": [
    "#Getting the confusion matrix using y-predict\n",
    "confusion_matrix(y_train_covid,y_train_predict)"
   ]
  },
  {
   "cell_type": "code",
   "execution_count": 62,
   "id": "6378f379",
   "metadata": {},
   "outputs": [
    {
     "data": {
      "text/plain": [
       "0.7499999999999999"
      ]
     },
     "execution_count": 62,
     "metadata": {},
     "output_type": "execute_result"
    }
   ],
   "source": [
    "#It is often convinient to combine precision and recall in a metric called F1\n",
    "f1_score(y_train_covid,y_train_predict)"
   ]
  },
  {
   "cell_type": "markdown",
   "id": "ee3a7ba9",
   "metadata": {},
   "source": [
    "# Binary SVM Model"
   ]
  },
  {
   "cell_type": "code",
   "execution_count": 63,
   "id": "99eadb57",
   "metadata": {},
   "outputs": [],
   "source": [
    "#Trying out support vector machine model\n",
    "from sklearn.pipeline import make_pipeline\n",
    "from sklearn.preprocessing import StandardScaler\n",
    "from sklearn.svm import SVC\n",
    "svm_clf = make_pipeline(StandardScaler(), SVC(gamma='auto',random_state=42))"
   ]
  },
  {
   "cell_type": "code",
   "execution_count": 64,
   "id": "6eb4c072",
   "metadata": {},
   "outputs": [
    {
     "data": {
      "text/plain": [
       "Pipeline(steps=[('standardscaler', StandardScaler()),\n",
       "                ('svc', SVC(gamma='auto', random_state=42))])"
      ]
     },
     "execution_count": 64,
     "metadata": {},
     "output_type": "execute_result"
    }
   ],
   "source": [
    "svm_clf.fit(X_train, y_train_covid)"
   ]
  },
  {
   "cell_type": "code",
   "execution_count": 67,
   "id": "27df2682",
   "metadata": {},
   "outputs": [
    {
     "data": {
      "text/plain": [
       "{'fit_time': array([0.05385685, 0.04587722, 0.04587793]),\n",
       " 'score_time': array([0.01595712, 0.01595736, 0.01495886]),\n",
       " 'test_score': array([0.75      , 0.75      , 0.85714286])}"
      ]
     },
     "execution_count": 67,
     "metadata": {},
     "output_type": "execute_result"
    }
   ],
   "source": [
    "# cross validation\n",
    "cross_validate(svm_clf,X_train,y_train_covid,cv=3,scoring=\"accuracy\")"
   ]
  },
  {
   "cell_type": "code",
   "execution_count": 68,
   "id": "5c90cf81",
   "metadata": {},
   "outputs": [],
   "source": [
    "y_train_predict_2=cross_val_predict(svm_clf,X_train,y_train_covid,cv=4)"
   ]
  },
  {
   "cell_type": "code",
   "execution_count": 69,
   "id": "0749b588",
   "metadata": {},
   "outputs": [
    {
     "data": {
      "text/plain": [
       "array([[18,  0],\n",
       "       [ 3,  2]], dtype=int64)"
      ]
     },
     "execution_count": 69,
     "metadata": {},
     "output_type": "execute_result"
    }
   ],
   "source": [
    "confusion_matrix(y_train_covid,y_train_predict_2)"
   ]
  },
  {
   "cell_type": "code",
   "execution_count": 70,
   "id": "f2501838",
   "metadata": {
    "scrolled": true
   },
   "outputs": [
    {
     "data": {
      "text/plain": [
       "0.5714285714285715"
      ]
     },
     "execution_count": 70,
     "metadata": {},
     "output_type": "execute_result"
    }
   ],
   "source": [
    "f1_score(y_train_covid,y_train_predict_2)"
   ]
  },
  {
   "cell_type": "code",
   "execution_count": null,
   "id": "faa0ce71",
   "metadata": {},
   "outputs": [],
   "source": []
  }
 ],
 "metadata": {
  "kernelspec": {
   "display_name": "Python 3",
   "language": "python",
   "name": "python3"
  },
  "language_info": {
   "codemirror_mode": {
    "name": "ipython",
    "version": 3
   },
   "file_extension": ".py",
   "mimetype": "text/x-python",
   "name": "python",
   "nbconvert_exporter": "python",
   "pygments_lexer": "ipython3",
   "version": "3.9.3"
  }
 },
 "nbformat": 4,
 "nbformat_minor": 5
}
